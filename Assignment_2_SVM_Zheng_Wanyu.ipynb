{
  "nbformat": 4,
  "nbformat_minor": 0,
  "metadata": {
    "colab": {
      "name": "Assignment 2_SVM_Zheng Wanyu.ipynb",
      "provenance": [],
      "collapsed_sections": [],
      "mount_file_id": "1rkuhJNXKZaVeZCauV-PRigZJzNCQQWBO",
      "authorship_tag": "ABX9TyNmlk80qccdnuB+7cBJs81s",
      "include_colab_link": true
    },
    "kernelspec": {
      "name": "python3",
      "display_name": "Python 3"
    },
    "language_info": {
      "name": "python"
    }
  },
  "cells": [
    {
      "cell_type": "markdown",
      "metadata": {
        "id": "view-in-github",
        "colab_type": "text"
      },
      "source": [
        "<a href=\"https://colab.research.google.com/github/zh1212121/NLP-Assn-2/blob/main/Assignment_2_SVM_Zheng_Wanyu.ipynb\" target=\"_parent\"><img src=\"https://colab.research.google.com/assets/colab-badge.svg\" alt=\"Open In Colab\"/></a>"
      ]
    },
    {
      "cell_type": "markdown",
      "metadata": {
        "id": "Xkk5t3xQ43YU"
      },
      "source": [
        "#[CS605 NLP] Assignment 2_SVM\n",
        "\n",
        "\n"
      ]
    },
    {
      "cell_type": "markdown",
      "metadata": {
        "id": "K2uO_dOD5Pq3"
      },
      "source": [
        "Zheng Wanyu (wanyu.zheng.2020@mitb.smu.edu.sg)"
      ]
    },
    {
      "cell_type": "markdown",
      "metadata": {
        "id": "8Etzl8-J5DAw"
      },
      "source": [
        "##1. Import Libraries & Check Version"
      ]
    },
    {
      "cell_type": "code",
      "metadata": {
        "id": "mEoRQy_4K-98"
      },
      "source": [
        "#!python -V"
      ],
      "execution_count": 359,
      "outputs": []
    },
    {
      "cell_type": "code",
      "metadata": {
        "id": "5dHmeTqW1_4D",
        "colab": {
          "base_uri": "https://localhost:8080/",
          "height": 378
        },
        "outputId": "57c54a7d-48d3-4783-b130-d3c28f440e79"
      },
      "source": [
        "!pip install scikit-learn==0.21\n",
        "!pip uninstall numpy -y\n",
        "!pip install numpy==1.19.0\n",
        "!pip install nltk"
      ],
      "execution_count": 360,
      "outputs": [
        {
          "output_type": "stream",
          "text": [
            "Requirement already satisfied: scikit-learn==0.21 in /usr/local/lib/python3.7/dist-packages (0.21.0)\n",
            "Requirement already satisfied: numpy>=1.11.0 in /usr/local/lib/python3.7/dist-packages (from scikit-learn==0.21) (1.19.0)\n",
            "Requirement already satisfied: scipy>=0.17.0 in /usr/local/lib/python3.7/dist-packages (from scikit-learn==0.21) (1.4.1)\n",
            "Requirement already satisfied: joblib>=0.11 in /usr/local/lib/python3.7/dist-packages (from scikit-learn==0.21) (1.0.1)\n",
            "Uninstalling numpy-1.19.0:\n",
            "  Successfully uninstalled numpy-1.19.0\n",
            "Collecting numpy==1.19.0\n",
            "  Using cached https://files.pythonhosted.org/packages/a8/31/e2c3eda7afe7dab08e1f24767b8e38ff2f30dc82bd74aa3a5324c550366a/numpy-1.19.0-cp37-cp37m-manylinux2010_x86_64.whl\n",
            "\u001b[31mERROR: tensorflow 2.5.0 has requirement numpy~=1.19.2, but you'll have numpy 1.19.0 which is incompatible.\u001b[0m\n",
            "\u001b[31mERROR: datascience 0.10.6 has requirement folium==0.2.1, but you'll have folium 0.8.3 which is incompatible.\u001b[0m\n",
            "\u001b[31mERROR: albumentations 0.1.12 has requirement imgaug<0.2.7,>=0.2.5, but you'll have imgaug 0.2.9 which is incompatible.\u001b[0m\n",
            "Installing collected packages: numpy\n",
            "Successfully installed numpy-1.19.0\n"
          ],
          "name": "stdout"
        },
        {
          "output_type": "display_data",
          "data": {
            "application/vnd.colab-display-data+json": {
              "pip_warning": {
                "packages": [
                  "numpy"
                ]
              }
            }
          },
          "metadata": {
            "tags": []
          }
        },
        {
          "output_type": "stream",
          "text": [
            "Requirement already satisfied: nltk in /usr/local/lib/python3.7/dist-packages (3.2.5)\n",
            "Requirement already satisfied: six in /usr/local/lib/python3.7/dist-packages (from nltk) (1.15.0)\n"
          ],
          "name": "stdout"
        }
      ]
    },
    {
      "cell_type": "code",
      "metadata": {
        "id": "wkCTalp6PWHz"
      },
      "source": [
        "import numpy as np\n",
        "import pandas as pd\n",
        "import torch\n",
        "import re\n",
        "import string\n",
        "import nltk\n",
        "import sklearn as sk\n",
        "import matplotlib.pyplot as plt\n",
        "import time\n",
        "import pickle\n",
        "\n",
        "from sklearn import model_selection, metrics\n",
        "from sklearn.metrics import classification_report, confusion_matrix\n",
        "from sklearn.model_selection import GridSearchCV\n",
        "from sklearn.feature_extraction.text import TfidfVectorizer, CountVectorizer, TfidfTransformer\n",
        "from sklearn.pipeline import make_pipeline, Pipeline\n",
        "from sklearn.svm import SVC\n",
        "from sklearn.utils import shuffle\n",
        "\n",
        "\n",
        "from google.colab import files"
      ],
      "execution_count": 361,
      "outputs": []
    },
    {
      "cell_type": "code",
      "metadata": {
        "colab": {
          "base_uri": "https://localhost:8080/"
        },
        "id": "hJlT2_HXtWc4",
        "outputId": "f4a37441-114f-479d-b967-cd44bc1b8888"
      },
      "source": [
        "nltk.download('stopwords')\n",
        "from nltk.corpus import stopwords\n",
        "nltk.download('punkt')\n",
        "from nltk.tokenize import word_tokenize\n",
        "nltk.download('wordnet')\n",
        "from nltk.stem import WordNetLemmatizer"
      ],
      "execution_count": 362,
      "outputs": [
        {
          "output_type": "stream",
          "text": [
            "[nltk_data] Downloading package stopwords to /root/nltk_data...\n",
            "[nltk_data]   Package stopwords is already up-to-date!\n",
            "[nltk_data] Downloading package punkt to /root/nltk_data...\n",
            "[nltk_data]   Package punkt is already up-to-date!\n",
            "[nltk_data] Downloading package wordnet to /root/nltk_data...\n",
            "[nltk_data]   Package wordnet is already up-to-date!\n"
          ],
          "name": "stdout"
        }
      ]
    },
    {
      "cell_type": "code",
      "metadata": {
        "id": "AX9-x_t5yCXG"
      },
      "source": [
        "seed = 1234"
      ],
      "execution_count": 363,
      "outputs": []
    },
    {
      "cell_type": "code",
      "metadata": {
        "colab": {
          "base_uri": "https://localhost:8080/"
        },
        "id": "XvAFrgcBPfsK",
        "outputId": "836f83cd-3e75-4445-cb8f-3e2ea29e50a7"
      },
      "source": [
        "print(np.__version__)\n",
        "print(pd.__version__)\n",
        "print(sk.__version__)"
      ],
      "execution_count": 364,
      "outputs": [
        {
          "output_type": "stream",
          "text": [
            "1.19.5\n",
            "1.1.5\n",
            "0.21.0\n"
          ],
          "name": "stdout"
        }
      ]
    },
    {
      "cell_type": "code",
      "metadata": {
        "id": "84u3xToEqbdZ"
      },
      "source": [
        "#from google.colab import drive\n",
        "#drive.mount('drive')"
      ],
      "execution_count": 365,
      "outputs": []
    },
    {
      "cell_type": "markdown",
      "metadata": {
        "id": "Mr8I7XFGfH8E"
      },
      "source": [
        "##2. Import Dataset"
      ]
    },
    {
      "cell_type": "code",
      "metadata": {
        "id": "YRrPcb1YdZiq"
      },
      "source": [
        "#import given datasets\n",
        "url_imdb = \"https://raw.githubusercontent.com/zh1212121/NLP-Assn-2/main/Train.csv\"\n",
        "imdb_raw = pd.read_csv(url_imdb)\n",
        "\n",
        "url_valid = \"https://raw.githubusercontent.com/zh1212121/NLP-Assn-2/main/Valid.csv\"\n",
        "valid_raw = pd.read_csv(url_valid)"
      ],
      "execution_count": 366,
      "outputs": []
    },
    {
      "cell_type": "code",
      "metadata": {
        "colab": {
          "base_uri": "https://localhost:8080/",
          "height": 204
        },
        "id": "BmYwQTUAUJlC",
        "outputId": "709bbf72-32fd-4f91-9be3-e27d2c979220"
      },
      "source": [
        "imdb_raw.head()"
      ],
      "execution_count": 367,
      "outputs": [
        {
          "output_type": "execute_result",
          "data": {
            "text/html": [
              "<div>\n",
              "<style scoped>\n",
              "    .dataframe tbody tr th:only-of-type {\n",
              "        vertical-align: middle;\n",
              "    }\n",
              "\n",
              "    .dataframe tbody tr th {\n",
              "        vertical-align: top;\n",
              "    }\n",
              "\n",
              "    .dataframe thead th {\n",
              "        text-align: right;\n",
              "    }\n",
              "</style>\n",
              "<table border=\"1\" class=\"dataframe\">\n",
              "  <thead>\n",
              "    <tr style=\"text-align: right;\">\n",
              "      <th></th>\n",
              "      <th>Text</th>\n",
              "      <th>Label</th>\n",
              "    </tr>\n",
              "  </thead>\n",
              "  <tbody>\n",
              "    <tr>\n",
              "      <th>0</th>\n",
              "      <td>In Iran, women are not permitted to attend men...</td>\n",
              "      <td>1</td>\n",
              "    </tr>\n",
              "    <tr>\n",
              "      <th>1</th>\n",
              "      <td>Los Angeles TV news reporter Jennifer (the bea...</td>\n",
              "      <td>1</td>\n",
              "    </tr>\n",
              "    <tr>\n",
              "      <th>2</th>\n",
              "      <td>I grew up in Royersford, Pa. The town where Je...</td>\n",
              "      <td>1</td>\n",
              "    </tr>\n",
              "    <tr>\n",
              "      <th>3</th>\n",
              "      <td>It was poorly shot. Looks Like a rush job, las...</td>\n",
              "      <td>0</td>\n",
              "    </tr>\n",
              "    <tr>\n",
              "      <th>4</th>\n",
              "      <td>My skateboarding career ended in 1974 when my ...</td>\n",
              "      <td>1</td>\n",
              "    </tr>\n",
              "  </tbody>\n",
              "</table>\n",
              "</div>"
            ],
            "text/plain": [
              "                                                Text  Label\n",
              "0  In Iran, women are not permitted to attend men...      1\n",
              "1  Los Angeles TV news reporter Jennifer (the bea...      1\n",
              "2  I grew up in Royersford, Pa. The town where Je...      1\n",
              "3  It was poorly shot. Looks Like a rush job, las...      0\n",
              "4  My skateboarding career ended in 1974 when my ...      1"
            ]
          },
          "metadata": {
            "tags": []
          },
          "execution_count": 367
        }
      ]
    },
    {
      "cell_type": "code",
      "metadata": {
        "colab": {
          "base_uri": "https://localhost:8080/",
          "height": 204
        },
        "id": "ffazDa-WYsf1",
        "outputId": "529509eb-d133-44d4-8f7b-c9d7e0cd38f1"
      },
      "source": [
        "valid_raw.head()"
      ],
      "execution_count": 368,
      "outputs": [
        {
          "output_type": "execute_result",
          "data": {
            "text/html": [
              "<div>\n",
              "<style scoped>\n",
              "    .dataframe tbody tr th:only-of-type {\n",
              "        vertical-align: middle;\n",
              "    }\n",
              "\n",
              "    .dataframe tbody tr th {\n",
              "        vertical-align: top;\n",
              "    }\n",
              "\n",
              "    .dataframe thead th {\n",
              "        text-align: right;\n",
              "    }\n",
              "</style>\n",
              "<table border=\"1\" class=\"dataframe\">\n",
              "  <thead>\n",
              "    <tr style=\"text-align: right;\">\n",
              "      <th></th>\n",
              "      <th>Text</th>\n",
              "      <th>Label</th>\n",
              "    </tr>\n",
              "  </thead>\n",
              "  <tbody>\n",
              "    <tr>\n",
              "      <th>0</th>\n",
              "      <td>I have just seen this movie and have not read ...</td>\n",
              "      <td>0</td>\n",
              "    </tr>\n",
              "    <tr>\n",
              "      <th>1</th>\n",
              "      <td>Lynch. The man has some really great stuff! He...</td>\n",
              "      <td>0</td>\n",
              "    </tr>\n",
              "    <tr>\n",
              "      <th>2</th>\n",
              "      <td>Director John Madden, of Shakespeare in Love f...</td>\n",
              "      <td>0</td>\n",
              "    </tr>\n",
              "    <tr>\n",
              "      <th>3</th>\n",
              "      <td>This game is very good for the n64. You can sk...</td>\n",
              "      <td>1</td>\n",
              "    </tr>\n",
              "    <tr>\n",
              "      <th>4</th>\n",
              "      <td>First of all \"Mexican werewolf in Texas\" is no...</td>\n",
              "      <td>0</td>\n",
              "    </tr>\n",
              "  </tbody>\n",
              "</table>\n",
              "</div>"
            ],
            "text/plain": [
              "                                                Text  Label\n",
              "0  I have just seen this movie and have not read ...      0\n",
              "1  Lynch. The man has some really great stuff! He...      0\n",
              "2  Director John Madden, of Shakespeare in Love f...      0\n",
              "3  This game is very good for the n64. You can sk...      1\n",
              "4  First of all \"Mexican werewolf in Texas\" is no...      0"
            ]
          },
          "metadata": {
            "tags": []
          },
          "execution_count": 368
        }
      ]
    },
    {
      "cell_type": "code",
      "metadata": {
        "colab": {
          "base_uri": "https://localhost:8080/"
        },
        "id": "D1p-b1EhiTEt",
        "outputId": "2843eb12-50ec-44bf-f8f1-6860f18051c4"
      },
      "source": [
        "print(\"Shape of train dataset:\", imdb_raw.shape)\n",
        "print(\"No. of unique values in train dataset:\\n\",imdb_raw.nunique(), \"\\n\")\n",
        "print(\"Shape of test dataset:\", valid_raw.shape)\n",
        "print(\"No. of unique values in test dataset:\\n\",valid_raw.nunique())"
      ],
      "execution_count": 369,
      "outputs": [
        {
          "output_type": "stream",
          "text": [
            "Shape of train dataset: (5000, 2)\n",
            "No. of unique values in train dataset:\n",
            " Text     4993\n",
            "Label       2\n",
            "dtype: int64 \n",
            "\n",
            "Shape of test dataset: (2000, 2)\n",
            "No. of unique values in test dataset:\n",
            " Text     2000\n",
            "Label       2\n",
            "dtype: int64\n"
          ],
          "name": "stdout"
        }
      ]
    },
    {
      "cell_type": "code",
      "metadata": {
        "colab": {
          "base_uri": "https://localhost:8080/"
        },
        "id": "33z4r07KcXzL",
        "outputId": "8b805190-032e-4261-a74d-54af46c11abd"
      },
      "source": [
        "#check for any null data\n",
        "print(imdb_raw.isnull().sum())\n",
        "print(valid_raw.isnull().sum())\n",
        "\n",
        "#no null data in the given datasets"
      ],
      "execution_count": 370,
      "outputs": [
        {
          "output_type": "stream",
          "text": [
            "Text     0\n",
            "Label    0\n",
            "dtype: int64\n",
            "Text     0\n",
            "Label    0\n",
            "dtype: int64\n"
          ],
          "name": "stdout"
        }
      ]
    },
    {
      "cell_type": "code",
      "metadata": {
        "colab": {
          "base_uri": "https://localhost:8080/"
        },
        "id": "a-gDAGEeZmKM",
        "outputId": "2e59b184-0155-440b-fb90-fa115289d853"
      },
      "source": [
        "#inspect review length\n",
        "for i in range(5):\n",
        "  print(\"Length of review\", i, \":\", len(imdb_raw[\"Text\"][i].split()))\n",
        "\n",
        "avg_review_length = imdb_raw[\"Text\"].apply(lambda x: len(x.split())).mean()\n",
        "print(\"Average length of review: \", avg_review_length)\n",
        "\n",
        "max_review_length = max(imdb_raw['Text'].apply(lambda x: len(x.split())))\n",
        "print(\"Max length of review: \", max_review_length)"
      ],
      "execution_count": 371,
      "outputs": [
        {
          "output_type": "stream",
          "text": [
            "Length of review 0 : 622\n",
            "Length of review 1 : 227\n",
            "Length of review 2 : 124\n",
            "Length of review 3 : 64\n",
            "Length of review 4 : 438\n",
            "Average length of review:  232.1402\n",
            "Max length of review:  1316\n"
          ],
          "name": "stdout"
        }
      ]
    },
    {
      "cell_type": "code",
      "metadata": {
        "colab": {
          "base_uri": "https://localhost:8080/"
        },
        "id": "Uou_SIQIrkgK",
        "outputId": "c341c153-c60d-4e45-9c95-cc5e91654c7c"
      },
      "source": [
        "imdb_raw['Label'].value_counts()\n",
        "#the dataset is balanced"
      ],
      "execution_count": 372,
      "outputs": [
        {
          "output_type": "execute_result",
          "data": {
            "text/plain": [
              "1    2500\n",
              "0    2500\n",
              "Name: Label, dtype: int64"
            ]
          },
          "metadata": {
            "tags": []
          },
          "execution_count": 372
        }
      ]
    },
    {
      "cell_type": "markdown",
      "metadata": {
        "id": "wfvub5n4fZcb"
      },
      "source": [
        "##3. Data Preprocessing"
      ]
    },
    {
      "cell_type": "markdown",
      "metadata": {
        "id": "3YQ1Y6FdqP71"
      },
      "source": [
        "1. lowercase<br />\n",
        "2. remove \\<br /><br />\n",
        "3. remove url (http://)<br />\n",
        "4. decontraction\n",
        "5. remove punctuation (tested effect)<br />\n",
        "6. remove non-char words/special char including digits (test effect)<br />\n",
        "7. remove stopwords (tested effect)<br />\n",
        "8. lemmatization (tested effect)\n",
        "9. remove single char\n",
        "10. reduce multiple whitespaces\n"
      ]
    },
    {
      "cell_type": "code",
      "metadata": {
        "id": "OSSwh5tlce0Z"
      },
      "source": [
        "#change text to lower case\n",
        "def convert_to_lower(text):\n",
        "  return text.lower()"
      ],
      "execution_count": 373,
      "outputs": []
    },
    {
      "cell_type": "code",
      "metadata": {
        "id": "-2tO_t9fwgyg"
      },
      "source": [
        "#remove <br />\n",
        "def remove_newline(text):\n",
        "  return re.sub('<br />', '', text)"
      ],
      "execution_count": 374,
      "outputs": []
    },
    {
      "cell_type": "code",
      "metadata": {
        "id": "r5yXr80FzGDN"
      },
      "source": [
        "#remove http:// links\n",
        "def remove_link(text):\n",
        "  return re.sub(r'http[s]?://\\S+\\b', '', text)"
      ],
      "execution_count": 375,
      "outputs": []
    },
    {
      "cell_type": "code",
      "metadata": {
        "id": "08P-998WhpPi"
      },
      "source": [
        "#decontraction\n",
        "def decontract(text):\n",
        "  text = re.sub(r\"won\\'t\", \" will not\", text)\n",
        "  text = re.sub(r\"won\\'t've\", \" will not have\", text)\n",
        "  text = re.sub(r\"can\\'t\", \" can not\", text)\n",
        "  text = re.sub(r\"don\\'t\", \" do not\", text)\n",
        "    \n",
        "  text = re.sub(r\"can\\'t've\", \" can not have\", text)\n",
        "  text = re.sub(r\"ma\\'am\", \" madam\", text)\n",
        "  text = re.sub(r\"let\\'s\", \" let us\", text)\n",
        "  text = re.sub(r\"ain\\'t\", \" am not\", text)\n",
        "  text = re.sub(r\"shan\\'t\", \" shall not\", text)\n",
        "  text = re.sub(r\"sha\\n't\", \" shall not\", text)\n",
        "  text = re.sub(r\"o\\'clock\", \" of the clock\", text)\n",
        "  text = re.sub(r\"y\\'all\", \" you all\", text)\n",
        "\n",
        "  text = re.sub(r\"n\\'t\", \" not\", text)\n",
        "  text = re.sub(r\"n\\'t've\", \" not have\", text)\n",
        "  text = re.sub(r\"\\'re\", \" are\", text)\n",
        "  text = re.sub(r\"\\'s\", \" is\", text)\n",
        "  text = re.sub(r\"\\'d\", \" would\", text)\n",
        "  text = re.sub(r\"\\'d've\", \" would have\", text)\n",
        "  text = re.sub(r\"\\'ll\", \" will\", text)\n",
        "  text = re.sub(r\"\\'ll've\", \" will have\", text)\n",
        "  text = re.sub(r\"\\'t\", \" not\", text)\n",
        "  text = re.sub(r\"\\'ve\", \" have\", text)\n",
        "  text = re.sub(r\"\\'m\", \" am\", text)\n",
        "  text = re.sub(r\"\\'re\", \" are\", text)\n",
        "  return text\n",
        "\n",
        "#reference:\n",
        "#https://www.kaggle.com/faressayah/sentiment-model-with-tensorflow-transformers"
      ],
      "execution_count": 376,
      "outputs": []
    },
    {
      "cell_type": "code",
      "metadata": {
        "colab": {
          "base_uri": "https://localhost:8080/"
        },
        "id": "_70hr8HM2kci",
        "outputId": "6d727fc2-29e3-4e44-f77c-e3fcca6036ff"
      },
      "source": [
        "#remove punctuation\n",
        "print(string.punctuation)\n",
        "\n",
        "def remove_punc(text):\n",
        "  return text.translate(str.maketrans('', '', string.punctuation))"
      ],
      "execution_count": 377,
      "outputs": [
        {
          "output_type": "stream",
          "text": [
            "!\"#$%&'()*+,-./:;<=>?@[\\]^_`{|}~\n"
          ],
          "name": "stdout"
        }
      ]
    },
    {
      "cell_type": "code",
      "metadata": {
        "id": "xGWNH0eD5xpo"
      },
      "source": [
        "#remove special characters & numbers \n",
        "def remove_special(text, remove_punc = True, remove_digits=True):\n",
        "  if remove_punc:\n",
        "    if remove_digits:\n",
        "      pattern=r'[^a-zA-z\\s]'\n",
        "      text=re.sub(pattern,'',text)\n",
        "    else:\n",
        "      pattern=r'[^a-zA-z0-9\\s]'\n",
        "      text=re.sub(pattern,'',text)\n",
        "  else:\n",
        "    if remove_digits:\n",
        "      pattern=r'[^a-zA-z\\!\\\"#$%&\\'()*+,-.//:;<=>\\?@[\\]^_`{|}~\\s'\n",
        "      text=re.sub(pattern,'',text)\n",
        "    else:\n",
        "      pattern=r'[^a-zA-z0-9\\!\\\"#$%&\\'()*+,-.//:;<=>\\?@[\\]^_`{|}~\\s'\n",
        "      text=re.sub(pattern,'',text)\n",
        "  return text"
      ],
      "execution_count": 378,
      "outputs": []
    },
    {
      "cell_type": "code",
      "metadata": {
        "id": "zZ3v6gmSxFD6",
        "colab": {
          "base_uri": "https://localhost:8080/"
        },
        "outputId": "d0d599e3-fc65-4448-932e-cdda6999a9a6"
      },
      "source": [
        "#view stopword list\n",
        "stop = stopwords.words('english')\n",
        "print(stop)"
      ],
      "execution_count": 379,
      "outputs": [
        {
          "output_type": "stream",
          "text": [
            "['i', 'me', 'my', 'myself', 'we', 'our', 'ours', 'ourselves', 'you', \"you're\", \"you've\", \"you'll\", \"you'd\", 'your', 'yours', 'yourself', 'yourselves', 'he', 'him', 'his', 'himself', 'she', \"she's\", 'her', 'hers', 'herself', 'it', \"it's\", 'its', 'itself', 'they', 'them', 'their', 'theirs', 'themselves', 'what', 'which', 'who', 'whom', 'this', 'that', \"that'll\", 'these', 'those', 'am', 'is', 'are', 'was', 'were', 'be', 'been', 'being', 'have', 'has', 'had', 'having', 'do', 'does', 'did', 'doing', 'a', 'an', 'the', 'and', 'but', 'if', 'or', 'because', 'as', 'until', 'while', 'of', 'at', 'by', 'for', 'with', 'about', 'against', 'between', 'into', 'through', 'during', 'before', 'after', 'above', 'below', 'to', 'from', 'up', 'down', 'in', 'out', 'on', 'off', 'over', 'under', 'again', 'further', 'then', 'once', 'here', 'there', 'when', 'where', 'why', 'how', 'all', 'any', 'both', 'each', 'few', 'more', 'most', 'other', 'some', 'such', 'no', 'nor', 'not', 'only', 'own', 'same', 'so', 'than', 'too', 'very', 's', 't', 'can', 'will', 'just', 'don', \"don't\", 'should', \"should've\", 'now', 'd', 'll', 'm', 'o', 're', 've', 'y', 'ain', 'aren', \"aren't\", 'couldn', \"couldn't\", 'didn', \"didn't\", 'doesn', \"doesn't\", 'hadn', \"hadn't\", 'hasn', \"hasn't\", 'haven', \"haven't\", 'isn', \"isn't\", 'ma', 'mightn', \"mightn't\", 'mustn', \"mustn't\", 'needn', \"needn't\", 'shan', \"shan't\", 'shouldn', \"shouldn't\", 'wasn', \"wasn't\", 'weren', \"weren't\", 'won', \"won't\", 'wouldn', \"wouldn't\"]\n"
          ],
          "name": "stdout"
        }
      ]
    },
    {
      "cell_type": "code",
      "metadata": {
        "colab": {
          "base_uri": "https://localhost:8080/"
        },
        "id": "Xf7RT-aj5xeG",
        "outputId": "1326e799-1473-46b5-d903-0da036c62a97"
      },
      "source": [
        "#define my own stopword list to exclude those stopwards that could change meaning of a sentence, eg. can't, doesn't\n",
        "stopword_list = ['i', 'me', 'my', 'myself', 'we', 'our', 'ours', 'ourselves', 'you', \"you're\", \"you've\", \n",
        "                 \"you'll\", \"you'd\", 'your', 'yours', 'yourself', 'yourselves', 'he', 'him', 'his', 'himself', \n",
        "                 'she', \"she's\", 'her', 'hers', 'herself', 'it', \"it's\", 'its', 'itself', 'they', 'them', \n",
        "                 'their', 'theirs', 'themselves', 'what', 'which', 'who', 'whom', 'this', 'that', \"that'll\", \n",
        "                 'these', 'those', 'am', 'is', 'are', 'was', 'were', 'be', 'been', 'being', 'have', 'has', \n",
        "                 'had', 'having', 'do', 'does', 'did', 'doing', 'a', 'an', 'the', 'and', 'but', 'if', 'or', \n",
        "                 'because', 'as', 'until', 'while', 'of', 'at', 'by', 'for', 'with', 'about', \n",
        "                 'between', 'into', 'through', 'during', 'before', 'after', 'above', 'below', 'to', 'from', \n",
        "                 'up', 'down', 'in', 'out', 'on', 'off', 'further', 'then', 'here', 'there', 'when', 'where', \n",
        "                 'why', 'how', 'all', 'any', 'both', 'each', 'few', 'more','other', 'some', 'such', 'own', \n",
        "                 'same', 'so', 'than', 'too', 's', 't', 'can', 'will', 'just', 'now', 'd', 'll', 'm', 'o', \n",
        "                 're', 've', 'y', ]\n",
        "print(stopword_list)\n",
        "\n",
        "def remove_stopword(text):\n",
        "  result = ' '.join([i for i in text.split() if not i in stopword_list])\n",
        "  return result"
      ],
      "execution_count": 380,
      "outputs": [
        {
          "output_type": "stream",
          "text": [
            "['i', 'me', 'my', 'myself', 'we', 'our', 'ours', 'ourselves', 'you', \"you're\", \"you've\", \"you'll\", \"you'd\", 'your', 'yours', 'yourself', 'yourselves', 'he', 'him', 'his', 'himself', 'she', \"she's\", 'her', 'hers', 'herself', 'it', \"it's\", 'its', 'itself', 'they', 'them', 'their', 'theirs', 'themselves', 'what', 'which', 'who', 'whom', 'this', 'that', \"that'll\", 'these', 'those', 'am', 'is', 'are', 'was', 'were', 'be', 'been', 'being', 'have', 'has', 'had', 'having', 'do', 'does', 'did', 'doing', 'a', 'an', 'the', 'and', 'but', 'if', 'or', 'because', 'as', 'until', 'while', 'of', 'at', 'by', 'for', 'with', 'about', 'between', 'into', 'through', 'during', 'before', 'after', 'above', 'below', 'to', 'from', 'up', 'down', 'in', 'out', 'on', 'off', 'further', 'then', 'here', 'there', 'when', 'where', 'why', 'how', 'all', 'any', 'both', 'each', 'few', 'more', 'other', 'some', 'such', 'own', 'same', 'so', 'than', 'too', 's', 't', 'can', 'will', 'just', 'now', 'd', 'll', 'm', 'o', 're', 've', 'y']\n"
          ],
          "name": "stdout"
        }
      ]
    },
    {
      "cell_type": "code",
      "metadata": {
        "id": "qFg4I9kbEnek"
      },
      "source": [
        "#Lemmatization\n",
        "def lemmatize(text):\n",
        "  lemmatizer = WordNetLemmatizer()\n",
        "  tokens = word_tokenize(text)\n",
        "  result = ' '.join([lemmatizer.lemmatize(w) for w in tokens])\n",
        "  return result"
      ],
      "execution_count": 381,
      "outputs": []
    },
    {
      "cell_type": "code",
      "metadata": {
        "id": "HK4IevI2mnmQ"
      },
      "source": [
        "#remove single character as it generally has less meaning\n",
        "def remove_single_char(text):\n",
        "  return re.sub(r'\\b\\w\\b', '', text)"
      ],
      "execution_count": 382,
      "outputs": []
    },
    {
      "cell_type": "code",
      "metadata": {
        "id": "7x26flgluBlK"
      },
      "source": [
        "#reduce multiple whitespaces to single space\n",
        "def reduce_space(text):\n",
        "  return re.sub(r'\\s+', ' ', text).strip()"
      ],
      "execution_count": 383,
      "outputs": []
    },
    {
      "cell_type": "code",
      "metadata": {
        "id": "ZxSR7Rri5xTo"
      },
      "source": [
        "def clean_text(text, remove_punc = False, remove_digits = False):\n",
        "  text = convert_to_lower(text)\n",
        "#  print(text)\n",
        "  text = remove_newline(text)\n",
        "#  print(text)\n",
        "  text = remove_link(text)\n",
        "#  print(text)\n",
        "  text = decontract(text)\n",
        "#  print(text)\n",
        "  text = remove_special(text, remove_punc, remove_digits)\n",
        "#  print(text)\n",
        "  text = remove_stopword(text)\n",
        "#  print(text)  \n",
        "#  text = lemmatize(text)\n",
        "#  print(text)\n",
        "  text = remove_single_char(text)\n",
        "#  print(text)\n",
        "  text = reduce_space(text)\n",
        "#  print(text)\n",
        "\n",
        "  return text"
      ],
      "execution_count": 384,
      "outputs": []
    },
    {
      "cell_type": "code",
      "metadata": {
        "id": "AC2LposcwM0y"
      },
      "source": [
        "punc = True\n",
        "dig = False"
      ],
      "execution_count": 385,
      "outputs": []
    },
    {
      "cell_type": "code",
      "metadata": {
        "id": "y2S4xObbxnLy"
      },
      "source": [
        "#clean the train data and store in new column \"Clean_Text\"\n",
        "imdb_raw['Clean_text'] = imdb_raw[\"Text\"].apply(clean_text, remove_punc = punc, remove_digits = dig)"
      ],
      "execution_count": 386,
      "outputs": []
    },
    {
      "cell_type": "code",
      "metadata": {
        "colab": {
          "base_uri": "https://localhost:8080/"
        },
        "id": "xRNqbKBholW2",
        "outputId": "21be465d-d44c-4b40-80e7-a8cf50adb389"
      },
      "source": [
        "avg_review_length_clean = imdb_raw[\"Clean_text\"].apply(lambda x: len(x.split())).mean()\n",
        "print(\"Average length of review after preprocessing: \", avg_review_length_clean)\n",
        "\n",
        "max_review_length_clean = max(imdb_raw['Clean_text'].apply(lambda x: len(x.split())))\n",
        "print(\"Max length of review after preprocessing: \", max_review_length_clean)"
      ],
      "execution_count": 387,
      "outputs": [
        {
          "output_type": "stream",
          "text": [
            "Average length of review after preprocessing:  122.7354\n",
            "Max length of review after preprocessing:  658\n"
          ],
          "name": "stdout"
        }
      ]
    },
    {
      "cell_type": "code",
      "metadata": {
        "colab": {
          "base_uri": "https://localhost:8080/",
          "height": 204
        },
        "id": "sgCj47bEtmXC",
        "outputId": "3625f1a0-7a46-47f0-a3bd-3cada7c0519a"
      },
      "source": [
        "imdb_raw.head()"
      ],
      "execution_count": 388,
      "outputs": [
        {
          "output_type": "execute_result",
          "data": {
            "text/html": [
              "<div>\n",
              "<style scoped>\n",
              "    .dataframe tbody tr th:only-of-type {\n",
              "        vertical-align: middle;\n",
              "    }\n",
              "\n",
              "    .dataframe tbody tr th {\n",
              "        vertical-align: top;\n",
              "    }\n",
              "\n",
              "    .dataframe thead th {\n",
              "        text-align: right;\n",
              "    }\n",
              "</style>\n",
              "<table border=\"1\" class=\"dataframe\">\n",
              "  <thead>\n",
              "    <tr style=\"text-align: right;\">\n",
              "      <th></th>\n",
              "      <th>Text</th>\n",
              "      <th>Label</th>\n",
              "      <th>Clean_text</th>\n",
              "    </tr>\n",
              "  </thead>\n",
              "  <tbody>\n",
              "    <tr>\n",
              "      <th>0</th>\n",
              "      <td>In Iran, women are not permitted to attend men...</td>\n",
              "      <td>1</td>\n",
              "      <td>iran women not permitted attend men sporting e...</td>\n",
              "    </tr>\n",
              "    <tr>\n",
              "      <th>1</th>\n",
              "      <td>Los Angeles TV news reporter Jennifer (the bea...</td>\n",
              "      <td>1</td>\n",
              "      <td>los angeles tv news reporter jennifer beautifu...</td>\n",
              "    </tr>\n",
              "    <tr>\n",
              "      <th>2</th>\n",
              "      <td>I grew up in Royersford, Pa. The town where Je...</td>\n",
              "      <td>1</td>\n",
              "      <td>grew royersford pa town jerry market remember ...</td>\n",
              "    </tr>\n",
              "    <tr>\n",
              "      <th>3</th>\n",
              "      <td>It was poorly shot. Looks Like a rush job, las...</td>\n",
              "      <td>0</td>\n",
              "      <td>poorly shot looks like rush job last minute ca...</td>\n",
              "    </tr>\n",
              "    <tr>\n",
              "      <th>4</th>\n",
              "      <td>My skateboarding career ended in 1974 when my ...</td>\n",
              "      <td>1</td>\n",
              "      <td>skateboarding career ended 1974 twobyfour skat...</td>\n",
              "    </tr>\n",
              "  </tbody>\n",
              "</table>\n",
              "</div>"
            ],
            "text/plain": [
              "                                                Text  ...                                         Clean_text\n",
              "0  In Iran, women are not permitted to attend men...  ...  iran women not permitted attend men sporting e...\n",
              "1  Los Angeles TV news reporter Jennifer (the bea...  ...  los angeles tv news reporter jennifer beautifu...\n",
              "2  I grew up in Royersford, Pa. The town where Je...  ...  grew royersford pa town jerry market remember ...\n",
              "3  It was poorly shot. Looks Like a rush job, las...  ...  poorly shot looks like rush job last minute ca...\n",
              "4  My skateboarding career ended in 1974 when my ...  ...  skateboarding career ended 1974 twobyfour skat...\n",
              "\n",
              "[5 rows x 3 columns]"
            ]
          },
          "metadata": {
            "tags": []
          },
          "execution_count": 388
        }
      ]
    },
    {
      "cell_type": "code",
      "metadata": {
        "id": "h8UA2WZPTv29"
      },
      "source": [
        "#clean the validation dataset and store in new column \"Clean_text\"\n",
        "valid_raw['Clean_text'] = valid_raw[\"Text\"].apply(clean_text, remove_punc = punc, remove_digits = dig)"
      ],
      "execution_count": 389,
      "outputs": []
    },
    {
      "cell_type": "code",
      "metadata": {
        "colab": {
          "base_uri": "https://localhost:8080/",
          "height": 204
        },
        "id": "JgES1miyT435",
        "outputId": "0cff1bdf-f87a-4f06-c2c3-cc3383bae835"
      },
      "source": [
        "valid_raw.head()"
      ],
      "execution_count": 390,
      "outputs": [
        {
          "output_type": "execute_result",
          "data": {
            "text/html": [
              "<div>\n",
              "<style scoped>\n",
              "    .dataframe tbody tr th:only-of-type {\n",
              "        vertical-align: middle;\n",
              "    }\n",
              "\n",
              "    .dataframe tbody tr th {\n",
              "        vertical-align: top;\n",
              "    }\n",
              "\n",
              "    .dataframe thead th {\n",
              "        text-align: right;\n",
              "    }\n",
              "</style>\n",
              "<table border=\"1\" class=\"dataframe\">\n",
              "  <thead>\n",
              "    <tr style=\"text-align: right;\">\n",
              "      <th></th>\n",
              "      <th>Text</th>\n",
              "      <th>Label</th>\n",
              "      <th>Clean_text</th>\n",
              "    </tr>\n",
              "  </thead>\n",
              "  <tbody>\n",
              "    <tr>\n",
              "      <th>0</th>\n",
              "      <td>I have just seen this movie and have not read ...</td>\n",
              "      <td>0</td>\n",
              "      <td>seen movie not read book good thing movie part...</td>\n",
              "    </tr>\n",
              "    <tr>\n",
              "      <th>1</th>\n",
              "      <td>Lynch. The man has some really great stuff! He...</td>\n",
              "      <td>0</td>\n",
              "      <td>lynch man really great stuff knows disturb us ...</td>\n",
              "    </tr>\n",
              "    <tr>\n",
              "      <th>2</th>\n",
              "      <td>Director John Madden, of Shakespeare in Love f...</td>\n",
              "      <td>0</td>\n",
              "      <td>director john madden shakespeare love fame giv...</td>\n",
              "    </tr>\n",
              "    <tr>\n",
              "      <th>3</th>\n",
              "      <td>This game is very good for the n64. You can sk...</td>\n",
              "      <td>1</td>\n",
              "      <td>game very good n64 skate tony hawk bob burnqui...</td>\n",
              "    </tr>\n",
              "    <tr>\n",
              "      <th>4</th>\n",
              "      <td>First of all \"Mexican werewolf in Texas\" is no...</td>\n",
              "      <td>0</td>\n",
              "      <td>first mexican werewolf texas not werewolf movi...</td>\n",
              "    </tr>\n",
              "  </tbody>\n",
              "</table>\n",
              "</div>"
            ],
            "text/plain": [
              "                                                Text  ...                                         Clean_text\n",
              "0  I have just seen this movie and have not read ...  ...  seen movie not read book good thing movie part...\n",
              "1  Lynch. The man has some really great stuff! He...  ...  lynch man really great stuff knows disturb us ...\n",
              "2  Director John Madden, of Shakespeare in Love f...  ...  director john madden shakespeare love fame giv...\n",
              "3  This game is very good for the n64. You can sk...  ...  game very good n64 skate tony hawk bob burnqui...\n",
              "4  First of all \"Mexican werewolf in Texas\" is no...  ...  first mexican werewolf texas not werewolf movi...\n",
              "\n",
              "[5 rows x 3 columns]"
            ]
          },
          "metadata": {
            "tags": []
          },
          "execution_count": 390
        }
      ]
    },
    {
      "cell_type": "code",
      "metadata": {
        "colab": {
          "base_uri": "https://localhost:8080/",
          "height": 540
        },
        "id": "2inA9CgyOwg-",
        "outputId": "94341a24-c828-422d-df81-a703b4c8c3d6"
      },
      "source": [
        "#inspect review length distribution\n",
        "fig,(ax1,ax2)=plt.subplots(1,2,figsize=(12,8))\n",
        "text_len=imdb_raw[imdb_raw['Label']==1]['Clean_text'].apply(lambda x: len(x.split()))\n",
        "ax1.hist(text_len,color='red')\n",
        "ax1.set_title('Text with positive reviews')\n",
        "text_len=imdb_raw[imdb_raw['Label']==0]['Clean_text'].apply(lambda x: len(x.split()))\n",
        "ax2.hist(text_len,color='green')\n",
        "ax2.set_title('Text with negative reviews')\n",
        "fig.suptitle('Review Length Distribution')\n",
        "plt.show()\n"
      ],
      "execution_count": 391,
      "outputs": [
        {
          "output_type": "display_data",
          "data": {
            "image/png": "[encoded data removed]",
            "text/plain": [
              "<Figure size 864x576 with 2 Axes>"
            ]
          },
          "metadata": {
            "tags": [],
            "needs_background": "light"
          }
        }
      ]
    },
    {
      "cell_type": "markdown",
      "metadata": {
        "id": "q1i32s3IwAHl"
      },
      "source": [
        "#4. Modelling - SVM"
      ]
    },
    {
      "cell_type": "markdown",
      "metadata": {
        "id": "Ydwg1XaeqFpD"
      },
      "source": [
        "###4.1 Prepare Train Test Data"
      ]
    },
    {
      "cell_type": "code",
      "metadata": {
        "id": "1u42_ZBgslz2",
        "colab": {
          "base_uri": "https://localhost:8080/",
          "height": 221
        },
        "outputId": "21e2abe7-a706-416d-ad69-2f711da6093b"
      },
      "source": [
        "train = pd.DataFrame({'Clean_text': imdb_raw['Clean_text'], 'Label': imdb_raw['Label']})\n",
        "print(train.shape)\n",
        "train.head()"
      ],
      "execution_count": 392,
      "outputs": [
        {
          "output_type": "stream",
          "text": [
            "(5000, 2)\n"
          ],
          "name": "stdout"
        },
        {
          "output_type": "execute_result",
          "data": {
            "text/html": [
              "<div>\n",
              "<style scoped>\n",
              "    .dataframe tbody tr th:only-of-type {\n",
              "        vertical-align: middle;\n",
              "    }\n",
              "\n",
              "    .dataframe tbody tr th {\n",
              "        vertical-align: top;\n",
              "    }\n",
              "\n",
              "    .dataframe thead th {\n",
              "        text-align: right;\n",
              "    }\n",
              "</style>\n",
              "<table border=\"1\" class=\"dataframe\">\n",
              "  <thead>\n",
              "    <tr style=\"text-align: right;\">\n",
              "      <th></th>\n",
              "      <th>Clean_text</th>\n",
              "      <th>Label</th>\n",
              "    </tr>\n",
              "  </thead>\n",
              "  <tbody>\n",
              "    <tr>\n",
              "      <th>0</th>\n",
              "      <td>iran women not permitted attend men sporting e...</td>\n",
              "      <td>1</td>\n",
              "    </tr>\n",
              "    <tr>\n",
              "      <th>1</th>\n",
              "      <td>los angeles tv news reporter jennifer beautifu...</td>\n",
              "      <td>1</td>\n",
              "    </tr>\n",
              "    <tr>\n",
              "      <th>2</th>\n",
              "      <td>grew royersford pa town jerry market remember ...</td>\n",
              "      <td>1</td>\n",
              "    </tr>\n",
              "    <tr>\n",
              "      <th>3</th>\n",
              "      <td>poorly shot looks like rush job last minute ca...</td>\n",
              "      <td>0</td>\n",
              "    </tr>\n",
              "    <tr>\n",
              "      <th>4</th>\n",
              "      <td>skateboarding career ended 1974 twobyfour skat...</td>\n",
              "      <td>1</td>\n",
              "    </tr>\n",
              "  </tbody>\n",
              "</table>\n",
              "</div>"
            ],
            "text/plain": [
              "                                          Clean_text  Label\n",
              "0  iran women not permitted attend men sporting e...      1\n",
              "1  los angeles tv news reporter jennifer beautifu...      1\n",
              "2  grew royersford pa town jerry market remember ...      1\n",
              "3  poorly shot looks like rush job last minute ca...      0\n",
              "4  skateboarding career ended 1974 twobyfour skat...      1"
            ]
          },
          "metadata": {
            "tags": []
          },
          "execution_count": 392
        }
      ]
    },
    {
      "cell_type": "code",
      "metadata": {
        "colab": {
          "base_uri": "https://localhost:8080/",
          "height": 221
        },
        "id": "tMRVtsRrlDXD",
        "outputId": "e4c25967-56d5-4398-8bfc-e15239bdf1e3"
      },
      "source": [
        "test = pd.DataFrame({'Clean_text': valid_raw['Clean_text'], 'Label': valid_raw['Label']})\n",
        "print(test.shape)\n",
        "test.head()"
      ],
      "execution_count": 393,
      "outputs": [
        {
          "output_type": "stream",
          "text": [
            "(2000, 2)\n"
          ],
          "name": "stdout"
        },
        {
          "output_type": "execute_result",
          "data": {
            "text/html": [
              "<div>\n",
              "<style scoped>\n",
              "    .dataframe tbody tr th:only-of-type {\n",
              "        vertical-align: middle;\n",
              "    }\n",
              "\n",
              "    .dataframe tbody tr th {\n",
              "        vertical-align: top;\n",
              "    }\n",
              "\n",
              "    .dataframe thead th {\n",
              "        text-align: right;\n",
              "    }\n",
              "</style>\n",
              "<table border=\"1\" class=\"dataframe\">\n",
              "  <thead>\n",
              "    <tr style=\"text-align: right;\">\n",
              "      <th></th>\n",
              "      <th>Clean_text</th>\n",
              "      <th>Label</th>\n",
              "    </tr>\n",
              "  </thead>\n",
              "  <tbody>\n",
              "    <tr>\n",
              "      <th>0</th>\n",
              "      <td>seen movie not read book good thing movie part...</td>\n",
              "      <td>0</td>\n",
              "    </tr>\n",
              "    <tr>\n",
              "      <th>1</th>\n",
              "      <td>lynch man really great stuff knows disturb us ...</td>\n",
              "      <td>0</td>\n",
              "    </tr>\n",
              "    <tr>\n",
              "      <th>2</th>\n",
              "      <td>director john madden shakespeare love fame giv...</td>\n",
              "      <td>0</td>\n",
              "    </tr>\n",
              "    <tr>\n",
              "      <th>3</th>\n",
              "      <td>game very good n64 skate tony hawk bob burnqui...</td>\n",
              "      <td>1</td>\n",
              "    </tr>\n",
              "    <tr>\n",
              "      <th>4</th>\n",
              "      <td>first mexican werewolf texas not werewolf movi...</td>\n",
              "      <td>0</td>\n",
              "    </tr>\n",
              "  </tbody>\n",
              "</table>\n",
              "</div>"
            ],
            "text/plain": [
              "                                          Clean_text  Label\n",
              "0  seen movie not read book good thing movie part...      0\n",
              "1  lynch man really great stuff knows disturb us ...      0\n",
              "2  director john madden shakespeare love fame giv...      0\n",
              "3  game very good n64 skate tony hawk bob burnqui...      1\n",
              "4  first mexican werewolf texas not werewolf movi...      0"
            ]
          },
          "metadata": {
            "tags": []
          },
          "execution_count": 393
        }
      ]
    },
    {
      "cell_type": "code",
      "metadata": {
        "colab": {
          "base_uri": "https://localhost:8080/",
          "height": 17
        },
        "id": "6Uzykbm3k83d",
        "outputId": "6f3f8b21-fc6b-4459-a3c0-a9c459b5d2a2"
      },
      "source": [
        "train.to_csv('Train_processed.csv')\n",
        "#!cp test_output.csv \"drive/My Drive/\"\n",
        "files.download('Train_processed.csv')"
      ],
      "execution_count": 394,
      "outputs": [
        {
          "output_type": "display_data",
          "data": {
            "application/javascript": [
              "\n",
              "    async function download(id, filename, size) {\n",
              "      if (!google.colab.kernel.accessAllowed) {\n",
              "        return;\n",
              "      }\n",
              "      const div = document.createElement('div');\n",
              "      const label = document.createElement('label');\n",
              "      label.textContent = `Downloading \"${filename}\": `;\n",
              "      div.appendChild(label);\n",
              "      const progress = document.createElement('progress');\n",
              "      progress.max = size;\n",
              "      div.appendChild(progress);\n",
              "      document.body.appendChild(div);\n",
              "\n",
              "      const buffers = [];\n",
              "      let downloaded = 0;\n",
              "\n",
              "      const channel = await google.colab.kernel.comms.open(id);\n",
              "      // Send a message to notify the kernel that we're ready.\n",
              "      channel.send({})\n",
              "\n",
              "      for await (const message of channel.messages) {\n",
              "        // Send a message to notify the kernel that we're ready.\n",
              "        channel.send({})\n",
              "        if (message.buffers) {\n",
              "          for (const buffer of message.buffers) {\n",
              "            buffers.push(buffer);\n",
              "            downloaded += buffer.byteLength;\n",
              "            progress.value = downloaded;\n",
              "          }\n",
              "        }\n",
              "      }\n",
              "      const blob = new Blob(buffers, {type: 'application/binary'});\n",
              "      const a = document.createElement('a');\n",
              "      a.href = window.URL.createObjectURL(blob);\n",
              "      a.download = filename;\n",
              "      div.appendChild(a);\n",
              "      a.click();\n",
              "      div.remove();\n",
              "    }\n",
              "  "
            ],
            "text/plain": [
              "<IPython.core.display.Javascript object>"
            ]
          },
          "metadata": {
            "tags": []
          }
        },
        {
          "output_type": "display_data",
          "data": {
            "application/javascript": [
              "download(\"download_c43b756c-8c01-4f17-a221-223ff209e71c\", \"Train_processed.csv\", 4284631)"
            ],
            "text/plain": [
              "<IPython.core.display.Javascript object>"
            ]
          },
          "metadata": {
            "tags": []
          }
        }
      ]
    },
    {
      "cell_type": "code",
      "metadata": {
        "colab": {
          "base_uri": "https://localhost:8080/",
          "height": 17
        },
        "id": "11x5RRp7laDp",
        "outputId": "0626034f-1a1f-4a2c-e41f-eb393bdd43c7"
      },
      "source": [
        "test.to_csv('Valid_processed.csv')\n",
        "files.download('Valid_processed.csv')"
      ],
      "execution_count": 395,
      "outputs": [
        {
          "output_type": "display_data",
          "data": {
            "application/javascript": [
              "\n",
              "    async function download(id, filename, size) {\n",
              "      if (!google.colab.kernel.accessAllowed) {\n",
              "        return;\n",
              "      }\n",
              "      const div = document.createElement('div');\n",
              "      const label = document.createElement('label');\n",
              "      label.textContent = `Downloading \"${filename}\": `;\n",
              "      div.appendChild(label);\n",
              "      const progress = document.createElement('progress');\n",
              "      progress.max = size;\n",
              "      div.appendChild(progress);\n",
              "      document.body.appendChild(div);\n",
              "\n",
              "      const buffers = [];\n",
              "      let downloaded = 0;\n",
              "\n",
              "      const channel = await google.colab.kernel.comms.open(id);\n",
              "      // Send a message to notify the kernel that we're ready.\n",
              "      channel.send({})\n",
              "\n",
              "      for await (const message of channel.messages) {\n",
              "        // Send a message to notify the kernel that we're ready.\n",
              "        channel.send({})\n",
              "        if (message.buffers) {\n",
              "          for (const buffer of message.buffers) {\n",
              "            buffers.push(buffer);\n",
              "            downloaded += buffer.byteLength;\n",
              "            progress.value = downloaded;\n",
              "          }\n",
              "        }\n",
              "      }\n",
              "      const blob = new Blob(buffers, {type: 'application/binary'});\n",
              "      const a = document.createElement('a');\n",
              "      a.href = window.URL.createObjectURL(blob);\n",
              "      a.download = filename;\n",
              "      div.appendChild(a);\n",
              "      a.click();\n",
              "      div.remove();\n",
              "    }\n",
              "  "
            ],
            "text/plain": [
              "<IPython.core.display.Javascript object>"
            ]
          },
          "metadata": {
            "tags": []
          }
        },
        {
          "output_type": "display_data",
          "data": {
            "application/javascript": [
              "download(\"download_7353e078-7ce0-4d99-b702-9095e7c2cf77\", \"Valid_processed.csv\", 1677855)"
            ],
            "text/plain": [
              "<IPython.core.display.Javascript object>"
            ]
          },
          "metadata": {
            "tags": []
          }
        }
      ]
    },
    {
      "cell_type": "code",
      "metadata": {
        "id": "fPW617pykQIA"
      },
      "source": [
        "train = shuffle(train, random_state=seed)"
      ],
      "execution_count": 346,
      "outputs": []
    },
    {
      "cell_type": "code",
      "metadata": {
        "id": "gZ6M3gh8mVBb"
      },
      "source": [
        "x_train = train['Clean_text']\n",
        "y_train = train['Label']\n",
        "x_test = test['Clean_text']\n",
        "y_test = test['Label']"
      ],
      "execution_count": 347,
      "outputs": []
    },
    {
      "cell_type": "markdown",
      "metadata": {
        "id": "okSmbSl8wDFr"
      },
      "source": [
        "###4.2 Model Building"
      ]
    },
    {
      "cell_type": "code",
      "metadata": {
        "id": "z8nw1XokpWfK"
      },
      "source": [
        "# Create feature vectors\n",
        "vectorizer = TfidfVectorizer(min_df = 5,\n",
        "                             max_df = 0.8,\n",
        "                             sublinear_tf = True,\n",
        "                             use_idf = True)\n",
        "\n",
        "#train_vectors = vectorizer.fit_transform(train['Clean_text'])\n",
        "#test_vectors = vectorizer.transform(test['Clean_text'])"
      ],
      "execution_count": 348,
      "outputs": []
    },
    {
      "cell_type": "code",
      "metadata": {
        "id": "ec5mhhBIV-lC"
      },
      "source": [
        "kfolds = model_selection.StratifiedKFold(n_splits=5, shuffle=True, random_state=seed)"
      ],
      "execution_count": 349,
      "outputs": []
    },
    {
      "cell_type": "code",
      "metadata": {
        "colab": {
          "base_uri": "https://localhost:8080/"
        },
        "id": "_AoC8JGDZgzA",
        "outputId": "1e3a6371-919c-44c3-99c1-1e1e845fbcee"
      },
      "source": [
        "np.random.seed(seed)\n",
        "\n",
        "#pipeline_svm = make_pipeline([('tfidf', TfidfTransformer())], \n",
        "#                            svm.SVC(probability=True, kernel=\"linear\", class_weight=\"balanced\"))\n",
        "\n",
        "pipeline_svm = make_pipeline(vectorizer, \n",
        "                            svm.SVC(probability=True, kernel=\"linear\", class_weight=\"balanced\"))\n",
        "\n",
        "\n",
        "grid_svm = GridSearchCV(pipeline_svm,\n",
        "                    param_grid = {'svc__C': [0.01, 0.1, 1]}, \n",
        "                    cv = kfolds,\n",
        "                    scoring=\"f1_macro\",\n",
        "                    verbose=1,   \n",
        "                    n_jobs=-1) \n",
        "\n",
        "grid_svm.fit(x_train, y_train)\n",
        "grid_svm.score(x_test, y_test)\n",
        "\n",
        "#grid_svm.fit(train_vectors, train['Label'])\n",
        "#grid_svm.score(test_vectors, test['Label'])"
      ],
      "execution_count": 351,
      "outputs": [
        {
          "output_type": "stream",
          "text": [
            "Fitting 5 folds for each of 3 candidates, totalling 15 fits\n"
          ],
          "name": "stdout"
        },
        {
          "output_type": "stream",
          "text": [
            "[Parallel(n_jobs=-1)]: Using backend LokyBackend with 2 concurrent workers.\n",
            "[Parallel(n_jobs=-1)]: Done  15 out of  15 | elapsed: 11.5min finished\n"
          ],
          "name": "stderr"
        },
        {
          "output_type": "execute_result",
          "data": {
            "text/plain": [
              "0.8754526408666896"
            ]
          },
          "metadata": {
            "tags": []
          },
          "execution_count": 351
        }
      ]
    },
    {
      "cell_type": "code",
      "metadata": {
        "id": "xwbB7NwFfWEV"
      },
      "source": [
        "y_pred = grid_svm.predict(x_test)\n",
        "#print(y_pred)"
      ],
      "execution_count": 352,
      "outputs": []
    },
    {
      "cell_type": "markdown",
      "metadata": {
        "id": "_7zsaUk_1v8t"
      },
      "source": [
        "###4.3 Evaluation"
      ]
    },
    {
      "cell_type": "code",
      "metadata": {
        "colab": {
          "base_uri": "https://localhost:8080/"
        },
        "id": "fNiwrxsksvVo",
        "outputId": "2990c399-2fa9-4990-a8ca-dfd799500b46"
      },
      "source": [
        "print('classification report on test data is shown below:')\n",
        "report = classification_report(y_test, y_pred)\n",
        "print(report)\n",
        "\n",
        "f1_score = sk.metrics.f1_score(y_test, y_pred)\n",
        "print('f1 score of the model on test data is:', round(f1_score, 2))\n",
        "print(f1_score)\n",
        "\n",
        "accuracy = sk.metrics.accuracy_score(y_test, y_pred)\n",
        "print('accuracy of the model on test data is:', round(accuracy,2))\n",
        "print(accuracy)"
      ],
      "execution_count": 356,
      "outputs": [
        {
          "output_type": "stream",
          "text": [
            "classification report on test data is shown below:\n",
            "              precision    recall  f1-score   support\n",
            "\n",
            "           0       0.89      0.86      0.87       999\n",
            "           1       0.86      0.89      0.88      1001\n",
            "\n",
            "    accuracy                           0.88      2000\n",
            "   macro avg       0.88      0.88      0.88      2000\n",
            "weighted avg       0.88      0.88      0.88      2000\n",
            "\n",
            "f1 score of the model on test data is: 0.88\n",
            "0.8778813143697891\n",
            "accuracy of the model on test data is: 0.88\n",
            "0.8755\n"
          ],
          "name": "stdout"
        }
      ]
    },
    {
      "cell_type": "markdown",
      "metadata": {
        "id": "XNzjm5nyGech"
      },
      "source": [
        "###4.4 Save model"
      ]
    },
    {
      "cell_type": "code",
      "metadata": {
        "id": "qzNZahuJ8G6Q"
      },
      "source": [
        "pickle.dump(vectorizer, open(\"vectorizer.pickle\", \"wb\"))"
      ],
      "execution_count": 357,
      "outputs": []
    },
    {
      "cell_type": "code",
      "metadata": {
        "id": "zYT6AvFL7oCr"
      },
      "source": [
        "filename = 'model.sav'\n",
        "pickle.dump(grid_svm, open(filename, 'wb'))"
      ],
      "execution_count": 358,
      "outputs": []
    },
    {
      "cell_type": "code",
      "metadata": {
        "colab": {
          "base_uri": "https://localhost:8080/"
        },
        "id": "wPkH7qGw2ZYr",
        "outputId": "61fc5d6b-5a21-4203-970f-4bc53bf8c25d"
      },
      "source": [
        "!pip install -r requirements.txt"
      ],
      "execution_count": 397,
      "outputs": [
        {
          "output_type": "stream",
          "text": [
            "Requirement already satisfied: absl-py==0.12.0 in /usr/local/lib/python3.7/dist-packages (from -r requirements.txt (line 1)) (0.12.0)\n",
            "Requirement already satisfied: alabaster==0.7.12 in /usr/local/lib/python3.7/dist-packages (from -r requirements.txt (line 2)) (0.7.12)\n",
            "Requirement already satisfied: albumentations==0.1.12 in /usr/local/lib/python3.7/dist-packages (from -r requirements.txt (line 3)) (0.1.12)\n",
            "Requirement already satisfied: altair==4.1.0 in /usr/local/lib/python3.7/dist-packages (from -r requirements.txt (line 4)) (4.1.0)\n",
            "Requirement already satisfied: appdirs==1.4.4 in /usr/local/lib/python3.7/dist-packages (from -r requirements.txt (line 5)) (1.4.4)\n",
            "Requirement already satisfied: argon2-cffi==20.1.0 in /usr/local/lib/python3.7/dist-packages (from -r requirements.txt (line 6)) (20.1.0)\n",
            "Requirement already satisfied: arviz==0.11.2 in /usr/local/lib/python3.7/dist-packages (from -r requirements.txt (line 7)) (0.11.2)\n",
            "Requirement already satisfied: astor==0.8.1 in /usr/local/lib/python3.7/dist-packages (from -r requirements.txt (line 8)) (0.8.1)\n",
            "Requirement already satisfied: astropy==4.2.1 in /usr/local/lib/python3.7/dist-packages (from -r requirements.txt (line 9)) (4.2.1)\n",
            "Requirement already satisfied: astunparse==1.6.3 in /usr/local/lib/python3.7/dist-packages (from -r requirements.txt (line 10)) (1.6.3)\n",
            "Requirement already satisfied: async-generator==1.10 in /usr/local/lib/python3.7/dist-packages (from -r requirements.txt (line 11)) (1.10)\n",
            "Requirement already satisfied: atari-py==0.2.9 in /usr/local/lib/python3.7/dist-packages (from -r requirements.txt (line 12)) (0.2.9)\n",
            "Requirement already satisfied: atomicwrites==1.4.0 in /usr/local/lib/python3.7/dist-packages (from -r requirements.txt (line 13)) (1.4.0)\n",
            "Requirement already satisfied: attrs==21.2.0 in /usr/local/lib/python3.7/dist-packages (from -r requirements.txt (line 14)) (21.2.0)\n",
            "Requirement already satisfied: audioread==2.1.9 in /usr/local/lib/python3.7/dist-packages (from -r requirements.txt (line 15)) (2.1.9)\n",
            "Requirement already satisfied: autograd==1.3 in /usr/local/lib/python3.7/dist-packages (from -r requirements.txt (line 16)) (1.3)\n",
            "Requirement already satisfied: Babel==2.9.1 in /usr/local/lib/python3.7/dist-packages (from -r requirements.txt (line 17)) (2.9.1)\n",
            "Requirement already satisfied: backcall==0.2.0 in /usr/local/lib/python3.7/dist-packages (from -r requirements.txt (line 18)) (0.2.0)\n",
            "Requirement already satisfied: beautifulsoup4==4.6.3 in /usr/local/lib/python3.7/dist-packages (from -r requirements.txt (line 19)) (4.6.3)\n",
            "Requirement already satisfied: bleach==3.3.0 in /usr/local/lib/python3.7/dist-packages (from -r requirements.txt (line 20)) (3.3.0)\n",
            "Requirement already satisfied: blis==0.4.1 in /usr/local/lib/python3.7/dist-packages (from -r requirements.txt (line 21)) (0.4.1)\n",
            "Requirement already satisfied: bokeh==2.3.2 in /usr/local/lib/python3.7/dist-packages (from -r requirements.txt (line 22)) (2.3.2)\n",
            "Requirement already satisfied: Bottleneck==1.3.2 in /usr/local/lib/python3.7/dist-packages (from -r requirements.txt (line 23)) (1.3.2)\n",
            "Requirement already satisfied: branca==0.4.2 in /usr/local/lib/python3.7/dist-packages (from -r requirements.txt (line 24)) (0.4.2)\n",
            "Requirement already satisfied: bs4==0.0.1 in /usr/local/lib/python3.7/dist-packages (from -r requirements.txt (line 25)) (0.0.1)\n",
            "Requirement already satisfied: CacheControl==0.12.6 in /usr/local/lib/python3.7/dist-packages (from -r requirements.txt (line 26)) (0.12.6)\n",
            "Requirement already satisfied: cached-property==1.5.2 in /usr/local/lib/python3.7/dist-packages (from -r requirements.txt (line 27)) (1.5.2)\n",
            "Requirement already satisfied: cachetools==4.2.2 in /usr/local/lib/python3.7/dist-packages (from -r requirements.txt (line 28)) (4.2.2)\n",
            "Requirement already satisfied: catalogue==1.0.0 in /usr/local/lib/python3.7/dist-packages (from -r requirements.txt (line 29)) (1.0.0)\n",
            "Requirement already satisfied: certifi==2021.5.30 in /usr/local/lib/python3.7/dist-packages (from -r requirements.txt (line 30)) (2021.5.30)\n",
            "Requirement already satisfied: cffi==1.14.5 in /usr/local/lib/python3.7/dist-packages (from -r requirements.txt (line 31)) (1.14.5)\n",
            "Requirement already satisfied: cftime==1.5.0 in /usr/local/lib/python3.7/dist-packages (from -r requirements.txt (line 32)) (1.5.0)\n",
            "Requirement already satisfied: chardet==3.0.4 in /usr/local/lib/python3.7/dist-packages (from -r requirements.txt (line 33)) (3.0.4)\n",
            "Requirement already satisfied: click==7.1.2 in /usr/local/lib/python3.7/dist-packages (from -r requirements.txt (line 34)) (7.1.2)\n",
            "Requirement already satisfied: cloudpickle==1.3.0 in /usr/local/lib/python3.7/dist-packages (from -r requirements.txt (line 35)) (1.3.0)\n",
            "Requirement already satisfied: cmake==3.12.0 in /usr/local/lib/python3.7/dist-packages (from -r requirements.txt (line 36)) (3.12.0)\n",
            "Requirement already satisfied: cmdstanpy==0.9.5 in /usr/local/lib/python3.7/dist-packages (from -r requirements.txt (line 37)) (0.9.5)\n",
            "Requirement already satisfied: colorcet==2.0.6 in /usr/local/lib/python3.7/dist-packages (from -r requirements.txt (line 38)) (2.0.6)\n",
            "Requirement already satisfied: colorlover==0.3.0 in /usr/local/lib/python3.7/dist-packages (from -r requirements.txt (line 39)) (0.3.0)\n",
            "Requirement already satisfied: community==1.0.0b1 in /usr/local/lib/python3.7/dist-packages (from -r requirements.txt (line 40)) (1.0.0b1)\n",
            "Requirement already satisfied: contextlib2==0.5.5 in /usr/local/lib/python3.7/dist-packages (from -r requirements.txt (line 41)) (0.5.5)\n",
            "Requirement already satisfied: convertdate==2.3.2 in /usr/local/lib/python3.7/dist-packages (from -r requirements.txt (line 42)) (2.3.2)\n",
            "Requirement already satisfied: coverage==3.7.1 in /usr/local/lib/python3.7/dist-packages (from -r requirements.txt (line 43)) (3.7.1)\n",
            "Requirement already satisfied: coveralls==0.5 in /usr/local/lib/python3.7/dist-packages (from -r requirements.txt (line 44)) (0.5)\n",
            "Requirement already satisfied: crcmod==1.7 in /usr/local/lib/python3.7/dist-packages (from -r requirements.txt (line 45)) (1.7)\n",
            "Requirement already satisfied: cufflinks==0.17.3 in /usr/local/lib/python3.7/dist-packages (from -r requirements.txt (line 46)) (0.17.3)\n",
            "Requirement already satisfied: cvxopt==1.2.6 in /usr/local/lib/python3.7/dist-packages (from -r requirements.txt (line 47)) (1.2.6)\n",
            "Requirement already satisfied: cvxpy==1.0.31 in /usr/local/lib/python3.7/dist-packages (from -r requirements.txt (line 48)) (1.0.31)\n",
            "Requirement already satisfied: cycler==0.10.0 in /usr/local/lib/python3.7/dist-packages (from -r requirements.txt (line 49)) (0.10.0)\n",
            "Requirement already satisfied: cymem==2.0.5 in /usr/local/lib/python3.7/dist-packages (from -r requirements.txt (line 50)) (2.0.5)\n",
            "Requirement already satisfied: Cython==0.29.23 in /usr/local/lib/python3.7/dist-packages (from -r requirements.txt (line 51)) (0.29.23)\n",
            "Requirement already satisfied: daft==0.0.4 in /usr/local/lib/python3.7/dist-packages (from -r requirements.txt (line 52)) (0.0.4)\n",
            "Requirement already satisfied: dask==2.12.0 in /usr/local/lib/python3.7/dist-packages (from -r requirements.txt (line 53)) (2.12.0)\n",
            "Requirement already satisfied: datascience==0.10.6 in /usr/local/lib/python3.7/dist-packages (from -r requirements.txt (line 54)) (0.10.6)\n",
            "Requirement already satisfied: debugpy==1.0.0 in /usr/local/lib/python3.7/dist-packages (from -r requirements.txt (line 55)) (1.0.0)\n",
            "Requirement already satisfied: decorator==4.4.2 in /usr/local/lib/python3.7/dist-packages (from -r requirements.txt (line 56)) (4.4.2)\n",
            "Requirement already satisfied: defusedxml==0.7.1 in /usr/local/lib/python3.7/dist-packages (from -r requirements.txt (line 57)) (0.7.1)\n",
            "Requirement already satisfied: descartes==1.1.0 in /usr/local/lib/python3.7/dist-packages (from -r requirements.txt (line 58)) (1.1.0)\n",
            "Requirement already satisfied: dill==0.3.4 in /usr/local/lib/python3.7/dist-packages (from -r requirements.txt (line 59)) (0.3.4)\n",
            "Requirement already satisfied: distributed==1.25.3 in /usr/local/lib/python3.7/dist-packages (from -r requirements.txt (line 60)) (1.25.3)\n",
            "Requirement already satisfied: dlib==19.18.0 in /usr/local/lib/python3.7/dist-packages (from -r requirements.txt (line 61)) (19.18.0)\n",
            "Requirement already satisfied: dm-tree==0.1.6 in /usr/local/lib/python3.7/dist-packages (from -r requirements.txt (line 62)) (0.1.6)\n",
            "Requirement already satisfied: docopt==0.6.2 in /usr/local/lib/python3.7/dist-packages (from -r requirements.txt (line 63)) (0.6.2)\n",
            "Requirement already satisfied: docutils==0.17.1 in /usr/local/lib/python3.7/dist-packages (from -r requirements.txt (line 64)) (0.17.1)\n",
            "Requirement already satisfied: dopamine-rl==1.0.5 in /usr/local/lib/python3.7/dist-packages (from -r requirements.txt (line 65)) (1.0.5)\n",
            "Requirement already satisfied: earthengine-api==0.1.272 in /usr/local/lib/python3.7/dist-packages (from -r requirements.txt (line 66)) (0.1.272)\n",
            "Requirement already satisfied: easydict==1.9 in /usr/local/lib/python3.7/dist-packages (from -r requirements.txt (line 67)) (1.9)\n",
            "Requirement already satisfied: ecos==2.0.7.post1 in /usr/local/lib/python3.7/dist-packages (from -r requirements.txt (line 68)) (2.0.7.post1)\n",
            "Requirement already satisfied: editdistance==0.5.3 in /usr/local/lib/python3.7/dist-packages (from -r requirements.txt (line 69)) (0.5.3)\n",
            "Requirement already satisfied: en-core-web-sm==2.2.5 in /usr/local/lib/python3.7/dist-packages (from -r requirements.txt (line 70)) (2.2.5)\n",
            "Requirement already satisfied: entrypoints==0.3 in /usr/local/lib/python3.7/dist-packages (from -r requirements.txt (line 71)) (0.3)\n",
            "Requirement already satisfied: ephem==4.0.0.2 in /usr/local/lib/python3.7/dist-packages (from -r requirements.txt (line 72)) (4.0.0.2)\n",
            "Requirement already satisfied: et-xmlfile==1.1.0 in /usr/local/lib/python3.7/dist-packages (from -r requirements.txt (line 73)) (1.1.0)\n",
            "Requirement already satisfied: fa2==0.3.5 in /usr/local/lib/python3.7/dist-packages (from -r requirements.txt (line 74)) (0.3.5)\n",
            "Requirement already satisfied: fastai==1.0.61 in /usr/local/lib/python3.7/dist-packages (from -r requirements.txt (line 75)) (1.0.61)\n",
            "Requirement already satisfied: fastdtw==0.3.4 in /usr/local/lib/python3.7/dist-packages (from -r requirements.txt (line 76)) (0.3.4)\n",
            "Requirement already satisfied: fastprogress==1.0.0 in /usr/local/lib/python3.7/dist-packages (from -r requirements.txt (line 77)) (1.0.0)\n",
            "Requirement already satisfied: fastrlock==0.6 in /usr/local/lib/python3.7/dist-packages (from -r requirements.txt (line 78)) (0.6)\n",
            "Requirement already satisfied: fbprophet==0.7.1 in /usr/local/lib/python3.7/dist-packages (from -r requirements.txt (line 79)) (0.7.1)\n",
            "Requirement already satisfied: feather-format==0.4.1 in /usr/local/lib/python3.7/dist-packages (from -r requirements.txt (line 80)) (0.4.1)\n",
            "Requirement already satisfied: filelock==3.0.12 in /usr/local/lib/python3.7/dist-packages (from -r requirements.txt (line 81)) (3.0.12)\n",
            "Requirement already satisfied: firebase-admin==4.4.0 in /usr/local/lib/python3.7/dist-packages (from -r requirements.txt (line 82)) (4.4.0)\n",
            "Requirement already satisfied: fix-yahoo-finance==0.0.22 in /usr/local/lib/python3.7/dist-packages (from -r requirements.txt (line 83)) (0.0.22)\n",
            "Requirement already satisfied: Flask==1.1.4 in /usr/local/lib/python3.7/dist-packages (from -r requirements.txt (line 84)) (1.1.4)\n",
            "Requirement already satisfied: flatbuffers==1.12 in /usr/local/lib/python3.7/dist-packages (from -r requirements.txt (line 85)) (1.12)\n",
            "Requirement already satisfied: folium==0.8.3 in /usr/local/lib/python3.7/dist-packages (from -r requirements.txt (line 86)) (0.8.3)\n",
            "Requirement already satisfied: future==0.16.0 in /usr/local/lib/python3.7/dist-packages (from -r requirements.txt (line 87)) (0.16.0)\n",
            "Requirement already satisfied: gast==0.4.0 in /usr/local/lib/python3.7/dist-packages (from -r requirements.txt (line 88)) (0.4.0)\n",
            "Requirement already satisfied: GDAL==2.2.2 in /usr/local/lib/python3.7/dist-packages (from -r requirements.txt (line 89)) (2.2.2)\n",
            "Requirement already satisfied: gdown==3.6.4 in /usr/local/lib/python3.7/dist-packages (from -r requirements.txt (line 90)) (3.6.4)\n",
            "Requirement already satisfied: gensim==3.6.0 in /usr/local/lib/python3.7/dist-packages (from -r requirements.txt (line 91)) (3.6.0)\n",
            "Requirement already satisfied: geographiclib==1.52 in /usr/local/lib/python3.7/dist-packages (from -r requirements.txt (line 92)) (1.52)\n",
            "Requirement already satisfied: geopy==1.17.0 in /usr/local/lib/python3.7/dist-packages (from -r requirements.txt (line 93)) (1.17.0)\n",
            "Requirement already satisfied: gin-config==0.4.0 in /usr/local/lib/python3.7/dist-packages (from -r requirements.txt (line 94)) (0.4.0)\n",
            "Requirement already satisfied: glob2==0.7 in /usr/local/lib/python3.7/dist-packages (from -r requirements.txt (line 95)) (0.7)\n",
            "Requirement already satisfied: google==2.0.3 in /usr/local/lib/python3.7/dist-packages (from -r requirements.txt (line 96)) (2.0.3)\n",
            "Requirement already satisfied: google-api-core==1.26.3 in /usr/local/lib/python3.7/dist-packages (from -r requirements.txt (line 97)) (1.26.3)\n",
            "Requirement already satisfied: google-api-python-client==1.12.8 in /usr/local/lib/python3.7/dist-packages (from -r requirements.txt (line 98)) (1.12.8)\n",
            "Requirement already satisfied: google-auth==1.32.1 in /usr/local/lib/python3.7/dist-packages (from -r requirements.txt (line 99)) (1.32.1)\n",
            "Requirement already satisfied: google-auth-httplib2==0.0.4 in /usr/local/lib/python3.7/dist-packages (from -r requirements.txt (line 100)) (0.0.4)\n",
            "Requirement already satisfied: google-auth-oauthlib==0.4.4 in /usr/local/lib/python3.7/dist-packages (from -r requirements.txt (line 101)) (0.4.4)\n",
            "Requirement already satisfied: google-cloud-bigquery==1.21.0 in /usr/local/lib/python3.7/dist-packages (from -r requirements.txt (line 102)) (1.21.0)\n",
            "Requirement already satisfied: google-cloud-bigquery-storage==1.1.0 in /usr/local/lib/python3.7/dist-packages (from -r requirements.txt (line 103)) (1.1.0)\n",
            "Requirement already satisfied: google-cloud-core==1.0.3 in /usr/local/lib/python3.7/dist-packages (from -r requirements.txt (line 104)) (1.0.3)\n",
            "Requirement already satisfied: google-cloud-datastore==1.8.0 in /usr/local/lib/python3.7/dist-packages (from -r requirements.txt (line 105)) (1.8.0)\n",
            "Requirement already satisfied: google-cloud-firestore==1.7.0 in /usr/local/lib/python3.7/dist-packages (from -r requirements.txt (line 106)) (1.7.0)\n",
            "Requirement already satisfied: google-cloud-language==1.2.0 in /usr/local/lib/python3.7/dist-packages (from -r requirements.txt (line 107)) (1.2.0)\n",
            "Requirement already satisfied: google-cloud-storage==1.18.1 in /usr/local/lib/python3.7/dist-packages (from -r requirements.txt (line 108)) (1.18.1)\n",
            "Requirement already satisfied: google-cloud-translate==1.5.0 in /usr/local/lib/python3.7/dist-packages (from -r requirements.txt (line 109)) (1.5.0)\n",
            "Requirement already satisfied: google-colab==1.0.0 in /usr/local/lib/python3.7/dist-packages (from -r requirements.txt (line 110)) (1.0.0)\n",
            "Requirement already satisfied: google-pasta==0.2.0 in /usr/local/lib/python3.7/dist-packages (from -r requirements.txt (line 111)) (0.2.0)\n",
            "Requirement already satisfied: google-resumable-media==0.4.1 in /usr/local/lib/python3.7/dist-packages (from -r requirements.txt (line 112)) (0.4.1)\n",
            "Requirement already satisfied: googleapis-common-protos==1.53.0 in /usr/local/lib/python3.7/dist-packages (from -r requirements.txt (line 113)) (1.53.0)\n",
            "Requirement already satisfied: googledrivedownloader==0.4 in /usr/local/lib/python3.7/dist-packages (from -r requirements.txt (line 114)) (0.4)\n",
            "Requirement already satisfied: graphviz==0.10.1 in /usr/local/lib/python3.7/dist-packages (from -r requirements.txt (line 115)) (0.10.1)\n",
            "Requirement already satisfied: greenlet==1.1.0 in /usr/local/lib/python3.7/dist-packages (from -r requirements.txt (line 116)) (1.1.0)\n",
            "Requirement already satisfied: grpcio==1.34.1 in /usr/local/lib/python3.7/dist-packages (from -r requirements.txt (line 117)) (1.34.1)\n",
            "Requirement already satisfied: gspread==3.0.1 in /usr/local/lib/python3.7/dist-packages (from -r requirements.txt (line 118)) (3.0.1)\n",
            "Requirement already satisfied: gspread-dataframe==3.0.8 in /usr/local/lib/python3.7/dist-packages (from -r requirements.txt (line 119)) (3.0.8)\n",
            "Requirement already satisfied: gym==0.17.3 in /usr/local/lib/python3.7/dist-packages (from -r requirements.txt (line 120)) (0.17.3)\n",
            "Requirement already satisfied: h5py==3.1.0 in /usr/local/lib/python3.7/dist-packages (from -r requirements.txt (line 121)) (3.1.0)\n",
            "Requirement already satisfied: HeapDict==1.0.1 in /usr/local/lib/python3.7/dist-packages (from -r requirements.txt (line 122)) (1.0.1)\n",
            "Requirement already satisfied: hijri-converter==2.1.3 in /usr/local/lib/python3.7/dist-packages (from -r requirements.txt (line 123)) (2.1.3)\n",
            "Requirement already satisfied: holidays==0.10.5.2 in /usr/local/lib/python3.7/dist-packages (from -r requirements.txt (line 124)) (0.10.5.2)\n",
            "Requirement already satisfied: holoviews==1.14.4 in /usr/local/lib/python3.7/dist-packages (from -r requirements.txt (line 125)) (1.14.4)\n",
            "Requirement already satisfied: html5lib==1.0.1 in /usr/local/lib/python3.7/dist-packages (from -r requirements.txt (line 126)) (1.0.1)\n",
            "Requirement already satisfied: httpimport==0.5.18 in /usr/local/lib/python3.7/dist-packages (from -r requirements.txt (line 127)) (0.5.18)\n",
            "Requirement already satisfied: httplib2==0.17.4 in /usr/local/lib/python3.7/dist-packages (from -r requirements.txt (line 128)) (0.17.4)\n",
            "Requirement already satisfied: httplib2shim==0.0.3 in /usr/local/lib/python3.7/dist-packages (from -r requirements.txt (line 129)) (0.0.3)\n",
            "Requirement already satisfied: humanize==0.5.1 in /usr/local/lib/python3.7/dist-packages (from -r requirements.txt (line 130)) (0.5.1)\n",
            "Requirement already satisfied: hyperopt==0.1.2 in /usr/local/lib/python3.7/dist-packages (from -r requirements.txt (line 131)) (0.1.2)\n",
            "Requirement already satisfied: ideep4py==2.0.0.post3 in /usr/local/lib/python3.7/dist-packages (from -r requirements.txt (line 132)) (2.0.0.post3)\n",
            "Requirement already satisfied: idna==2.10 in /usr/local/lib/python3.7/dist-packages (from -r requirements.txt (line 133)) (2.10)\n",
            "Requirement already satisfied: imageio==2.4.1 in /usr/local/lib/python3.7/dist-packages (from -r requirements.txt (line 134)) (2.4.1)\n",
            "Requirement already satisfied: imagesize==1.2.0 in /usr/local/lib/python3.7/dist-packages (from -r requirements.txt (line 135)) (1.2.0)\n",
            "Requirement already satisfied: imbalanced-learn==0.4.3 in /usr/local/lib/python3.7/dist-packages (from -r requirements.txt (line 136)) (0.4.3)\n",
            "Requirement already satisfied: imblearn==0.0 in /usr/local/lib/python3.7/dist-packages (from -r requirements.txt (line 137)) (0.0)\n",
            "Requirement already satisfied: imgaug==0.2.9 in /usr/local/lib/python3.7/dist-packages (from -r requirements.txt (line 138)) (0.2.9)\n",
            "Requirement already satisfied: importlib-metadata==4.6.0 in /usr/local/lib/python3.7/dist-packages (from -r requirements.txt (line 139)) (4.6.0)\n",
            "Requirement already satisfied: importlib-resources==5.2.0 in /usr/local/lib/python3.7/dist-packages (from -r requirements.txt (line 140)) (5.2.0)\n",
            "Requirement already satisfied: imutils==0.5.4 in /usr/local/lib/python3.7/dist-packages (from -r requirements.txt (line 141)) (0.5.4)\n",
            "Requirement already satisfied: inflect==2.1.0 in /usr/local/lib/python3.7/dist-packages (from -r requirements.txt (line 142)) (2.1.0)\n",
            "Requirement already satisfied: iniconfig==1.1.1 in /usr/local/lib/python3.7/dist-packages (from -r requirements.txt (line 143)) (1.1.1)\n",
            "Requirement already satisfied: install==1.3.4 in /usr/local/lib/python3.7/dist-packages (from -r requirements.txt (line 144)) (1.3.4)\n",
            "Requirement already satisfied: intel-openmp==2021.3.0 in /usr/local/lib/python3.7/dist-packages (from -r requirements.txt (line 145)) (2021.3.0)\n",
            "Requirement already satisfied: intervaltree==2.1.0 in /usr/local/lib/python3.7/dist-packages (from -r requirements.txt (line 146)) (2.1.0)\n",
            "Requirement already satisfied: ipykernel==4.10.1 in /usr/local/lib/python3.7/dist-packages (from -r requirements.txt (line 147)) (4.10.1)\n",
            "Requirement already satisfied: ipython==5.5.0 in /usr/local/lib/python3.7/dist-packages (from -r requirements.txt (line 148)) (5.5.0)\n",
            "Requirement already satisfied: ipython-genutils==0.2.0 in /usr/local/lib/python3.7/dist-packages (from -r requirements.txt (line 149)) (0.2.0)\n",
            "Requirement already satisfied: ipython-sql==0.3.9 in /usr/local/lib/python3.7/dist-packages (from -r requirements.txt (line 150)) (0.3.9)\n",
            "Requirement already satisfied: ipywidgets==7.6.3 in /usr/local/lib/python3.7/dist-packages (from -r requirements.txt (line 151)) (7.6.3)\n",
            "Requirement already satisfied: itsdangerous==1.1.0 in /usr/local/lib/python3.7/dist-packages (from -r requirements.txt (line 152)) (1.1.0)\n",
            "Requirement already satisfied: jax==0.2.13 in /usr/local/lib/python3.7/dist-packages (from -r requirements.txt (line 153)) (0.2.13)\n",
            "Requirement already satisfied: jaxlib==0.1.66+cuda110 in /usr/local/lib/python3.7/dist-packages (from -r requirements.txt (line 154)) (0.1.66+cuda110)\n",
            "Requirement already satisfied: jdcal==1.4.1 in /usr/local/lib/python3.7/dist-packages (from -r requirements.txt (line 155)) (1.4.1)\n",
            "Requirement already satisfied: jedi==0.18.0 in /usr/local/lib/python3.7/dist-packages (from -r requirements.txt (line 156)) (0.18.0)\n",
            "Requirement already satisfied: jieba==0.42.1 in /usr/local/lib/python3.7/dist-packages (from -r requirements.txt (line 157)) (0.42.1)\n",
            "Requirement already satisfied: Jinja2==2.11.3 in /usr/local/lib/python3.7/dist-packages (from -r requirements.txt (line 158)) (2.11.3)\n",
            "Requirement already satisfied: joblib==1.0.1 in /usr/local/lib/python3.7/dist-packages (from -r requirements.txt (line 159)) (1.0.1)\n",
            "Requirement already satisfied: jpeg4py==0.1.4 in /usr/local/lib/python3.7/dist-packages (from -r requirements.txt (line 160)) (0.1.4)\n",
            "Requirement already satisfied: jsonschema==2.6.0 in /usr/local/lib/python3.7/dist-packages (from -r requirements.txt (line 161)) (2.6.0)\n",
            "Requirement already satisfied: jupyter==1.0.0 in /usr/local/lib/python3.7/dist-packages (from -r requirements.txt (line 162)) (1.0.0)\n",
            "Requirement already satisfied: jupyter-client==5.3.5 in /usr/local/lib/python3.7/dist-packages (from -r requirements.txt (line 163)) (5.3.5)\n",
            "Requirement already satisfied: jupyter-console==5.2.0 in /usr/local/lib/python3.7/dist-packages (from -r requirements.txt (line 164)) (5.2.0)\n",
            "Requirement already satisfied: jupyter-core==4.7.1 in /usr/local/lib/python3.7/dist-packages (from -r requirements.txt (line 165)) (4.7.1)\n",
            "Requirement already satisfied: jupyterlab-pygments==0.1.2 in /usr/local/lib/python3.7/dist-packages (from -r requirements.txt (line 166)) (0.1.2)\n",
            "Requirement already satisfied: jupyterlab-widgets==1.0.0 in /usr/local/lib/python3.7/dist-packages (from -r requirements.txt (line 167)) (1.0.0)\n",
            "Requirement already satisfied: kaggle==1.5.12 in /usr/local/lib/python3.7/dist-packages (from -r requirements.txt (line 168)) (1.5.12)\n",
            "Requirement already satisfied: kapre==0.3.5 in /usr/local/lib/python3.7/dist-packages (from -r requirements.txt (line 169)) (0.3.5)\n",
            "Requirement already satisfied: Keras==2.4.3 in /usr/local/lib/python3.7/dist-packages (from -r requirements.txt (line 170)) (2.4.3)\n",
            "Requirement already satisfied: keras-nightly==2.5.0.dev2021032900 in /usr/local/lib/python3.7/dist-packages (from -r requirements.txt (line 171)) (2.5.0.dev2021032900)\n",
            "Requirement already satisfied: Keras-Preprocessing==1.1.2 in /usr/local/lib/python3.7/dist-packages (from -r requirements.txt (line 172)) (1.1.2)\n",
            "Requirement already satisfied: keras-vis==0.4.1 in /usr/local/lib/python3.7/dist-packages (from -r requirements.txt (line 173)) (0.4.1)\n",
            "Requirement already satisfied: kiwisolver==1.3.1 in /usr/local/lib/python3.7/dist-packages (from -r requirements.txt (line 174)) (1.3.1)\n",
            "Requirement already satisfied: korean-lunar-calendar==0.2.1 in /usr/local/lib/python3.7/dist-packages (from -r requirements.txt (line 175)) (0.2.1)\n",
            "Requirement already satisfied: librosa==0.8.1 in /usr/local/lib/python3.7/dist-packages (from -r requirements.txt (line 176)) (0.8.1)\n",
            "Requirement already satisfied: lightgbm==2.2.3 in /usr/local/lib/python3.7/dist-packages (from -r requirements.txt (line 177)) (2.2.3)\n",
            "Requirement already satisfied: llvmlite==0.34.0 in /usr/local/lib/python3.7/dist-packages (from -r requirements.txt (line 178)) (0.34.0)\n",
            "Requirement already satisfied: lmdb==0.99 in /usr/local/lib/python3.7/dist-packages (from -r requirements.txt (line 179)) (0.99)\n",
            "Requirement already satisfied: LunarCalendar==0.0.9 in /usr/local/lib/python3.7/dist-packages (from -r requirements.txt (line 180)) (0.0.9)\n",
            "Requirement already satisfied: lxml==4.2.6 in /usr/local/lib/python3.7/dist-packages (from -r requirements.txt (line 181)) (4.2.6)\n",
            "Requirement already satisfied: Markdown==3.3.4 in /usr/local/lib/python3.7/dist-packages (from -r requirements.txt (line 182)) (3.3.4)\n",
            "Requirement already satisfied: MarkupSafe==2.0.1 in /usr/local/lib/python3.7/dist-packages (from -r requirements.txt (line 183)) (2.0.1)\n",
            "Requirement already satisfied: matplotlib==3.2.2 in /usr/local/lib/python3.7/dist-packages (from -r requirements.txt (line 184)) (3.2.2)\n",
            "Requirement already satisfied: matplotlib-inline==0.1.2 in /usr/local/lib/python3.7/dist-packages (from -r requirements.txt (line 185)) (0.1.2)\n",
            "Requirement already satisfied: matplotlib-venn==0.11.6 in /usr/local/lib/python3.7/dist-packages (from -r requirements.txt (line 186)) (0.11.6)\n",
            "Requirement already satisfied: missingno==0.4.2 in /usr/local/lib/python3.7/dist-packages (from -r requirements.txt (line 187)) (0.4.2)\n",
            "Requirement already satisfied: mistune==0.8.4 in /usr/local/lib/python3.7/dist-packages (from -r requirements.txt (line 188)) (0.8.4)\n",
            "Requirement already satisfied: mizani==0.6.0 in /usr/local/lib/python3.7/dist-packages (from -r requirements.txt (line 189)) (0.6.0)\n",
            "Requirement already satisfied: mkl==2019.0 in /usr/local/lib/python3.7/dist-packages (from -r requirements.txt (line 190)) (2019.0)\n",
            "Requirement already satisfied: mlxtend==0.14.0 in /usr/local/lib/python3.7/dist-packages (from -r requirements.txt (line 191)) (0.14.0)\n",
            "Requirement already satisfied: more-itertools==8.8.0 in /usr/local/lib/python3.7/dist-packages (from -r requirements.txt (line 192)) (8.8.0)\n",
            "Requirement already satisfied: moviepy==0.2.3.5 in /usr/local/lib/python3.7/dist-packages (from -r requirements.txt (line 193)) (0.2.3.5)\n",
            "Requirement already satisfied: mpmath==1.2.1 in /usr/local/lib/python3.7/dist-packages (from -r requirements.txt (line 194)) (1.2.1)\n",
            "Requirement already satisfied: msgpack==1.0.2 in /usr/local/lib/python3.7/dist-packages (from -r requirements.txt (line 195)) (1.0.2)\n",
            "Requirement already satisfied: multiprocess==0.70.12.2 in /usr/local/lib/python3.7/dist-packages (from -r requirements.txt (line 196)) (0.70.12.2)\n",
            "Requirement already satisfied: multitasking==0.0.9 in /usr/local/lib/python3.7/dist-packages (from -r requirements.txt (line 197)) (0.0.9)\n",
            "Requirement already satisfied: murmurhash==1.0.5 in /usr/local/lib/python3.7/dist-packages (from -r requirements.txt (line 198)) (1.0.5)\n",
            "Requirement already satisfied: music21==5.5.0 in /usr/local/lib/python3.7/dist-packages (from -r requirements.txt (line 199)) (5.5.0)\n",
            "Requirement already satisfied: natsort==5.5.0 in /usr/local/lib/python3.7/dist-packages (from -r requirements.txt (line 200)) (5.5.0)\n",
            "Requirement already satisfied: nbclient==0.5.3 in /usr/local/lib/python3.7/dist-packages (from -r requirements.txt (line 201)) (0.5.3)\n",
            "Requirement already satisfied: nbconvert==5.6.1 in /usr/local/lib/python3.7/dist-packages (from -r requirements.txt (line 202)) (5.6.1)\n",
            "Requirement already satisfied: nbformat==5.1.3 in /usr/local/lib/python3.7/dist-packages (from -r requirements.txt (line 203)) (5.1.3)\n",
            "Requirement already satisfied: nest-asyncio==1.5.1 in /usr/local/lib/python3.7/dist-packages (from -r requirements.txt (line 204)) (1.5.1)\n",
            "Requirement already satisfied: netCDF4==1.5.7 in /usr/local/lib/python3.7/dist-packages (from -r requirements.txt (line 205)) (1.5.7)\n",
            "Requirement already satisfied: networkx==2.5.1 in /usr/local/lib/python3.7/dist-packages (from -r requirements.txt (line 206)) (2.5.1)\n",
            "Requirement already satisfied: nibabel==3.0.2 in /usr/local/lib/python3.7/dist-packages (from -r requirements.txt (line 207)) (3.0.2)\n",
            "Requirement already satisfied: nltk==3.2.5 in /usr/local/lib/python3.7/dist-packages (from -r requirements.txt (line 208)) (3.2.5)\n",
            "Requirement already satisfied: notebook==5.3.1 in /usr/local/lib/python3.7/dist-packages (from -r requirements.txt (line 209)) (5.3.1)\n",
            "Requirement already satisfied: numba==0.51.2 in /usr/local/lib/python3.7/dist-packages (from -r requirements.txt (line 210)) (0.51.2)\n",
            "Requirement already satisfied: numexpr==2.7.3 in /usr/local/lib/python3.7/dist-packages (from -r requirements.txt (line 211)) (2.7.3)\n",
            "Requirement already satisfied: numpy==1.19.0 in /usr/local/lib/python3.7/dist-packages (from -r requirements.txt (line 212)) (1.19.0)\n",
            "Requirement already satisfied: nvidia-ml-py3==7.352.0 in /usr/local/lib/python3.7/dist-packages (from -r requirements.txt (line 213)) (7.352.0)\n",
            "Requirement already satisfied: oauth2client==4.1.3 in /usr/local/lib/python3.7/dist-packages (from -r requirements.txt (line 214)) (4.1.3)\n",
            "Requirement already satisfied: oauthlib==3.1.1 in /usr/local/lib/python3.7/dist-packages (from -r requirements.txt (line 215)) (3.1.1)\n",
            "Requirement already satisfied: okgrade==0.4.3 in /usr/local/lib/python3.7/dist-packages (from -r requirements.txt (line 216)) (0.4.3)\n",
            "Requirement already satisfied: opencv-contrib-python==4.1.2.30 in /usr/local/lib/python3.7/dist-packages (from -r requirements.txt (line 217)) (4.1.2.30)\n",
            "Requirement already satisfied: opencv-python==4.1.2.30 in /usr/local/lib/python3.7/dist-packages (from -r requirements.txt (line 218)) (4.1.2.30)\n",
            "Requirement already satisfied: openpyxl==2.5.9 in /usr/local/lib/python3.7/dist-packages (from -r requirements.txt (line 219)) (2.5.9)\n",
            "Requirement already satisfied: opt-einsum==3.3.0 in /usr/local/lib/python3.7/dist-packages (from -r requirements.txt (line 220)) (3.3.0)\n",
            "Requirement already satisfied: osqp==0.6.2.post0 in /usr/local/lib/python3.7/dist-packages (from -r requirements.txt (line 221)) (0.6.2.post0)\n",
            "Requirement already satisfied: packaging==20.9 in /usr/local/lib/python3.7/dist-packages (from -r requirements.txt (line 222)) (20.9)\n",
            "Requirement already satisfied: palettable==3.3.0 in /usr/local/lib/python3.7/dist-packages (from -r requirements.txt (line 223)) (3.3.0)\n",
            "Requirement already satisfied: pandas==1.1.5 in /usr/local/lib/python3.7/dist-packages (from -r requirements.txt (line 224)) (1.1.5)\n",
            "Requirement already satisfied: pandas-datareader==0.9.0 in /usr/local/lib/python3.7/dist-packages (from -r requirements.txt (line 225)) (0.9.0)\n",
            "Requirement already satisfied: pandas-gbq==0.13.3 in /usr/local/lib/python3.7/dist-packages (from -r requirements.txt (line 226)) (0.13.3)\n",
            "Requirement already satisfied: pandas-profiling==1.4.1 in /usr/local/lib/python3.7/dist-packages (from -r requirements.txt (line 227)) (1.4.1)\n",
            "Requirement already satisfied: pandocfilters==1.4.3 in /usr/local/lib/python3.7/dist-packages (from -r requirements.txt (line 228)) (1.4.3)\n",
            "Requirement already satisfied: panel==0.11.3 in /usr/local/lib/python3.7/dist-packages (from -r requirements.txt (line 229)) (0.11.3)\n",
            "Requirement already satisfied: param==1.10.1 in /usr/local/lib/python3.7/dist-packages (from -r requirements.txt (line 230)) (1.10.1)\n",
            "Requirement already satisfied: parso==0.8.2 in /usr/local/lib/python3.7/dist-packages (from -r requirements.txt (line 231)) (0.8.2)\n",
            "Requirement already satisfied: pathlib==1.0.1 in /usr/local/lib/python3.7/dist-packages (from -r requirements.txt (line 232)) (1.0.1)\n",
            "Requirement already satisfied: patsy==0.5.1 in /usr/local/lib/python3.7/dist-packages (from -r requirements.txt (line 233)) (0.5.1)\n",
            "Requirement already satisfied: pexpect==4.8.0 in /usr/local/lib/python3.7/dist-packages (from -r requirements.txt (line 234)) (4.8.0)\n",
            "Requirement already satisfied: pickleshare==0.7.5 in /usr/local/lib/python3.7/dist-packages (from -r requirements.txt (line 235)) (0.7.5)\n",
            "Requirement already satisfied: Pillow==7.1.2 in /usr/local/lib/python3.7/dist-packages (from -r requirements.txt (line 236)) (7.1.2)\n",
            "Requirement already satisfied: pip-tools==4.5.1 in /usr/local/lib/python3.7/dist-packages (from -r requirements.txt (line 237)) (4.5.1)\n",
            "Requirement already satisfied: plac==1.1.3 in /usr/local/lib/python3.7/dist-packages (from -r requirements.txt (line 238)) (1.1.3)\n",
            "Requirement already satisfied: plotly==4.4.1 in /usr/local/lib/python3.7/dist-packages (from -r requirements.txt (line 239)) (4.4.1)\n",
            "Requirement already satisfied: plotnine==0.6.0 in /usr/local/lib/python3.7/dist-packages (from -r requirements.txt (line 240)) (0.6.0)\n",
            "Requirement already satisfied: pluggy==0.7.1 in /usr/local/lib/python3.7/dist-packages (from -r requirements.txt (line 241)) (0.7.1)\n",
            "Requirement already satisfied: pooch==1.4.0 in /usr/local/lib/python3.7/dist-packages (from -r requirements.txt (line 242)) (1.4.0)\n",
            "Requirement already satisfied: portpicker==1.3.9 in /usr/local/lib/python3.7/dist-packages (from -r requirements.txt (line 243)) (1.3.9)\n",
            "Requirement already satisfied: prefetch-generator==1.0.1 in /usr/local/lib/python3.7/dist-packages (from -r requirements.txt (line 244)) (1.0.1)\n",
            "Requirement already satisfied: preshed==3.0.5 in /usr/local/lib/python3.7/dist-packages (from -r requirements.txt (line 245)) (3.0.5)\n",
            "Requirement already satisfied: prettytable==2.1.0 in /usr/local/lib/python3.7/dist-packages (from -r requirements.txt (line 246)) (2.1.0)\n",
            "Requirement already satisfied: progressbar2==3.38.0 in /usr/local/lib/python3.7/dist-packages (from -r requirements.txt (line 247)) (3.38.0)\n",
            "Requirement already satisfied: prometheus-client==0.11.0 in /usr/local/lib/python3.7/dist-packages (from -r requirements.txt (line 248)) (0.11.0)\n",
            "Requirement already satisfied: promise==2.3 in /usr/local/lib/python3.7/dist-packages (from -r requirements.txt (line 249)) (2.3)\n",
            "Requirement already satisfied: prompt-toolkit==1.0.18 in /usr/local/lib/python3.7/dist-packages (from -r requirements.txt (line 250)) (1.0.18)\n",
            "Requirement already satisfied: protobuf==3.17.3 in /usr/local/lib/python3.7/dist-packages (from -r requirements.txt (line 251)) (3.17.3)\n",
            "Requirement already satisfied: psutil==5.4.8 in /usr/local/lib/python3.7/dist-packages (from -r requirements.txt (line 252)) (5.4.8)\n",
            "Requirement already satisfied: psycopg2==2.7.6.1 in /usr/local/lib/python3.7/dist-packages (from -r requirements.txt (line 253)) (2.7.6.1)\n",
            "Requirement already satisfied: ptyprocess==0.7.0 in /usr/local/lib/python3.7/dist-packages (from -r requirements.txt (line 254)) (0.7.0)\n",
            "Requirement already satisfied: py==1.10.0 in /usr/local/lib/python3.7/dist-packages (from -r requirements.txt (line 255)) (1.10.0)\n",
            "Requirement already satisfied: pyarrow==3.0.0 in /usr/local/lib/python3.7/dist-packages (from -r requirements.txt (line 256)) (3.0.0)\n",
            "Requirement already satisfied: pyasn1==0.4.8 in /usr/local/lib/python3.7/dist-packages (from -r requirements.txt (line 257)) (0.4.8)\n",
            "Requirement already satisfied: pyasn1-modules==0.2.8 in /usr/local/lib/python3.7/dist-packages (from -r requirements.txt (line 258)) (0.2.8)\n",
            "Requirement already satisfied: pycocotools==2.0.2 in /usr/local/lib/python3.7/dist-packages (from -r requirements.txt (line 259)) (2.0.2)\n",
            "Requirement already satisfied: pycparser==2.20 in /usr/local/lib/python3.7/dist-packages (from -r requirements.txt (line 260)) (2.20)\n",
            "Requirement already satisfied: pyct==0.4.8 in /usr/local/lib/python3.7/dist-packages (from -r requirements.txt (line 261)) (0.4.8)\n",
            "Requirement already satisfied: pydata-google-auth==1.2.0 in /usr/local/lib/python3.7/dist-packages (from -r requirements.txt (line 262)) (1.2.0)\n",
            "Requirement already satisfied: pydot==1.3.0 in /usr/local/lib/python3.7/dist-packages (from -r requirements.txt (line 263)) (1.3.0)\n",
            "Requirement already satisfied: pydot-ng==2.0.0 in /usr/local/lib/python3.7/dist-packages (from -r requirements.txt (line 264)) (2.0.0)\n",
            "Requirement already satisfied: pydotplus==2.0.2 in /usr/local/lib/python3.7/dist-packages (from -r requirements.txt (line 265)) (2.0.2)\n",
            "Requirement already satisfied: PyDrive==1.3.1 in /usr/local/lib/python3.7/dist-packages (from -r requirements.txt (line 266)) (1.3.1)\n",
            "Requirement already satisfied: pyemd==0.5.1 in /usr/local/lib/python3.7/dist-packages (from -r requirements.txt (line 267)) (0.5.1)\n",
            "Requirement already satisfied: pyerfa==2.0.0 in /usr/local/lib/python3.7/dist-packages (from -r requirements.txt (line 268)) (2.0.0)\n",
            "Requirement already satisfied: pyglet==1.5.0 in /usr/local/lib/python3.7/dist-packages (from -r requirements.txt (line 269)) (1.5.0)\n",
            "Requirement already satisfied: Pygments==2.6.1 in /usr/local/lib/python3.7/dist-packages (from -r requirements.txt (line 270)) (2.6.1)\n",
            "Requirement already satisfied: pygobject==3.26.1 in /usr/lib/python3/dist-packages (from -r requirements.txt (line 271)) (3.26.1)\n",
            "Requirement already satisfied: pymc3==3.11.2 in /usr/local/lib/python3.7/dist-packages (from -r requirements.txt (line 272)) (3.11.2)\n",
            "Requirement already satisfied: PyMeeus==0.5.11 in /usr/local/lib/python3.7/dist-packages (from -r requirements.txt (line 273)) (0.5.11)\n",
            "Requirement already satisfied: pymongo==3.11.4 in /usr/local/lib/python3.7/dist-packages (from -r requirements.txt (line 274)) (3.11.4)\n",
            "Requirement already satisfied: pymystem3==0.2.0 in /usr/local/lib/python3.7/dist-packages (from -r requirements.txt (line 275)) (0.2.0)\n",
            "Requirement already satisfied: PyOpenGL==3.1.5 in /usr/local/lib/python3.7/dist-packages (from -r requirements.txt (line 276)) (3.1.5)\n",
            "Requirement already satisfied: pyparsing==2.4.7 in /usr/local/lib/python3.7/dist-packages (from -r requirements.txt (line 277)) (2.4.7)\n",
            "Requirement already satisfied: pyrsistent==0.18.0 in /usr/local/lib/python3.7/dist-packages (from -r requirements.txt (line 278)) (0.18.0)\n",
            "Requirement already satisfied: pysndfile==1.3.8 in /usr/local/lib/python3.7/dist-packages (from -r requirements.txt (line 279)) (1.3.8)\n",
            "Requirement already satisfied: PySocks==1.7.1 in /usr/local/lib/python3.7/dist-packages (from -r requirements.txt (line 280)) (1.7.1)\n",
            "Requirement already satisfied: pystan==2.19.1.1 in /usr/local/lib/python3.7/dist-packages (from -r requirements.txt (line 281)) (2.19.1.1)\n",
            "Requirement already satisfied: pytest==3.6.4 in /usr/local/lib/python3.7/dist-packages (from -r requirements.txt (line 282)) (3.6.4)\n",
            "Requirement already satisfied: python-apt==0.0.0 in /usr/local/lib/python3.7/dist-packages (from -r requirements.txt (line 283)) (0.0.0)\n",
            "Requirement already satisfied: python-chess==0.23.11 in /usr/local/lib/python3.7/dist-packages (from -r requirements.txt (line 284)) (0.23.11)\n",
            "Requirement already satisfied: python-dateutil==2.8.1 in /usr/local/lib/python3.7/dist-packages (from -r requirements.txt (line 285)) (2.8.1)\n",
            "Requirement already satisfied: python-louvain==0.15 in /usr/local/lib/python3.7/dist-packages (from -r requirements.txt (line 286)) (0.15)\n",
            "Requirement already satisfied: python-slugify==5.0.2 in /usr/local/lib/python3.7/dist-packages (from -r requirements.txt (line 287)) (5.0.2)\n",
            "Requirement already satisfied: python-utils==2.5.6 in /usr/local/lib/python3.7/dist-packages (from -r requirements.txt (line 288)) (2.5.6)\n",
            "Requirement already satisfied: pytz==2018.9 in /usr/local/lib/python3.7/dist-packages (from -r requirements.txt (line 289)) (2018.9)\n",
            "Requirement already satisfied: pyviz-comms==2.1.0 in /usr/local/lib/python3.7/dist-packages (from -r requirements.txt (line 290)) (2.1.0)\n",
            "Requirement already satisfied: PyWavelets==1.1.1 in /usr/local/lib/python3.7/dist-packages (from -r requirements.txt (line 291)) (1.1.1)\n",
            "Requirement already satisfied: PyYAML==3.13 in /usr/local/lib/python3.7/dist-packages (from -r requirements.txt (line 292)) (3.13)\n",
            "Requirement already satisfied: pyzmq==22.1.0 in /usr/local/lib/python3.7/dist-packages (from -r requirements.txt (line 293)) (22.1.0)\n",
            "Requirement already satisfied: qdldl==0.1.5.post0 in /usr/local/lib/python3.7/dist-packages (from -r requirements.txt (line 294)) (0.1.5.post0)\n",
            "Requirement already satisfied: qtconsole==5.1.1 in /usr/local/lib/python3.7/dist-packages (from -r requirements.txt (line 295)) (5.1.1)\n",
            "Requirement already satisfied: QtPy==1.9.0 in /usr/local/lib/python3.7/dist-packages (from -r requirements.txt (line 296)) (1.9.0)\n",
            "Requirement already satisfied: regex==2019.12.20 in /usr/local/lib/python3.7/dist-packages (from -r requirements.txt (line 297)) (2019.12.20)\n",
            "Requirement already satisfied: requests==2.23.0 in /usr/local/lib/python3.7/dist-packages (from -r requirements.txt (line 298)) (2.23.0)\n",
            "Requirement already satisfied: requests-oauthlib==1.3.0 in /usr/local/lib/python3.7/dist-packages (from -r requirements.txt (line 299)) (1.3.0)\n",
            "Requirement already satisfied: resampy==0.2.2 in /usr/local/lib/python3.7/dist-packages (from -r requirements.txt (line 300)) (0.2.2)\n",
            "Requirement already satisfied: retrying==1.3.3 in /usr/local/lib/python3.7/dist-packages (from -r requirements.txt (line 301)) (1.3.3)\n",
            "Requirement already satisfied: rpy2==3.4.5 in /usr/local/lib/python3.7/dist-packages (from -r requirements.txt (line 302)) (3.4.5)\n",
            "Requirement already satisfied: rsa==4.7.2 in /usr/local/lib/python3.7/dist-packages (from -r requirements.txt (line 303)) (4.7.2)\n",
            "Requirement already satisfied: scikit-image==0.16.2 in /usr/local/lib/python3.7/dist-packages (from -r requirements.txt (line 304)) (0.16.2)\n",
            "Requirement already satisfied: scikit-learn==0.21.0 in /usr/local/lib/python3.7/dist-packages (from -r requirements.txt (line 305)) (0.21.0)\n",
            "Requirement already satisfied: scipy==1.4.1 in /usr/local/lib/python3.7/dist-packages (from -r requirements.txt (line 306)) (1.4.1)\n",
            "Requirement already satisfied: screen-resolution-extra==0.0.0 in /usr/lib/python3/dist-packages (from -r requirements.txt (line 307)) (0.0.0)\n",
            "Requirement already satisfied: scs==2.1.4 in /usr/local/lib/python3.7/dist-packages (from -r requirements.txt (line 308)) (2.1.4)\n",
            "Requirement already satisfied: seaborn==0.11.1 in /usr/local/lib/python3.7/dist-packages (from -r requirements.txt (line 309)) (0.11.1)\n",
            "Requirement already satisfied: semver==2.13.0 in /usr/local/lib/python3.7/dist-packages (from -r requirements.txt (line 310)) (2.13.0)\n",
            "Requirement already satisfied: Send2Trash==1.7.1 in /usr/local/lib/python3.7/dist-packages (from -r requirements.txt (line 311)) (1.7.1)\n",
            "Requirement already satisfied: setuptools-git==1.2 in /usr/local/lib/python3.7/dist-packages (from -r requirements.txt (line 312)) (1.2)\n",
            "Requirement already satisfied: Shapely==1.7.1 in /usr/local/lib/python3.7/dist-packages (from -r requirements.txt (line 313)) (1.7.1)\n",
            "Requirement already satisfied: simplegeneric==0.8.1 in /usr/local/lib/python3.7/dist-packages (from -r requirements.txt (line 314)) (0.8.1)\n",
            "Requirement already satisfied: six==1.15.0 in /usr/local/lib/python3.7/dist-packages (from -r requirements.txt (line 315)) (1.15.0)\n",
            "Requirement already satisfied: sklearn==0.0 in /usr/local/lib/python3.7/dist-packages (from -r requirements.txt (line 316)) (0.0)\n",
            "Requirement already satisfied: sklearn-pandas==1.8.0 in /usr/local/lib/python3.7/dist-packages (from -r requirements.txt (line 317)) (1.8.0)\n",
            "Requirement already satisfied: smart-open==5.1.0 in /usr/local/lib/python3.7/dist-packages (from -r requirements.txt (line 318)) (5.1.0)\n",
            "Requirement already satisfied: snowballstemmer==2.1.0 in /usr/local/lib/python3.7/dist-packages (from -r requirements.txt (line 319)) (2.1.0)\n",
            "Requirement already satisfied: sortedcontainers==2.4.0 in /usr/local/lib/python3.7/dist-packages (from -r requirements.txt (line 320)) (2.4.0)\n",
            "Requirement already satisfied: SoundFile==0.10.3.post1 in /usr/local/lib/python3.7/dist-packages (from -r requirements.txt (line 321)) (0.10.3.post1)\n",
            "Requirement already satisfied: spacy==2.2.4 in /usr/local/lib/python3.7/dist-packages (from -r requirements.txt (line 322)) (2.2.4)\n",
            "Requirement already satisfied: Sphinx==1.8.5 in /usr/local/lib/python3.7/dist-packages (from -r requirements.txt (line 323)) (1.8.5)\n",
            "Requirement already satisfied: sphinxcontrib-serializinghtml==1.1.5 in /usr/local/lib/python3.7/dist-packages (from -r requirements.txt (line 324)) (1.1.5)\n",
            "Requirement already satisfied: sphinxcontrib-websupport==1.2.4 in /usr/local/lib/python3.7/dist-packages (from -r requirements.txt (line 325)) (1.2.4)\n",
            "Requirement already satisfied: SQLAlchemy==1.4.20 in /usr/local/lib/python3.7/dist-packages (from -r requirements.txt (line 326)) (1.4.20)\n",
            "Requirement already satisfied: sqlparse==0.4.1 in /usr/local/lib/python3.7/dist-packages (from -r requirements.txt (line 327)) (0.4.1)\n",
            "Requirement already satisfied: srsly==1.0.5 in /usr/local/lib/python3.7/dist-packages (from -r requirements.txt (line 328)) (1.0.5)\n",
            "Requirement already satisfied: statsmodels==0.10.2 in /usr/local/lib/python3.7/dist-packages (from -r requirements.txt (line 329)) (0.10.2)\n",
            "Requirement already satisfied: sympy==1.7.1 in /usr/local/lib/python3.7/dist-packages (from -r requirements.txt (line 330)) (1.7.1)\n",
            "Requirement already satisfied: tables==3.4.4 in /usr/local/lib/python3.7/dist-packages (from -r requirements.txt (line 331)) (3.4.4)\n",
            "Requirement already satisfied: tabulate==0.8.9 in /usr/local/lib/python3.7/dist-packages (from -r requirements.txt (line 332)) (0.8.9)\n",
            "Requirement already satisfied: tblib==1.7.0 in /usr/local/lib/python3.7/dist-packages (from -r requirements.txt (line 333)) (1.7.0)\n",
            "Requirement already satisfied: tensorboard==2.5.0 in /usr/local/lib/python3.7/dist-packages (from -r requirements.txt (line 334)) (2.5.0)\n",
            "Requirement already satisfied: tensorboard-data-server==0.6.1 in /usr/local/lib/python3.7/dist-packages (from -r requirements.txt (line 335)) (0.6.1)\n",
            "Requirement already satisfied: tensorboard-plugin-wit==1.8.0 in /usr/local/lib/python3.7/dist-packages (from -r requirements.txt (line 336)) (1.8.0)\n",
            "Requirement already satisfied: tensorflow==2.5.0 in /usr/local/lib/python3.7/dist-packages (from -r requirements.txt (line 337)) (2.5.0)\n",
            "Requirement already satisfied: tensorflow-datasets==4.0.1 in /usr/local/lib/python3.7/dist-packages (from -r requirements.txt (line 338)) (4.0.1)\n",
            "Requirement already satisfied: tensorflow-estimator==2.5.0 in /usr/local/lib/python3.7/dist-packages (from -r requirements.txt (line 339)) (2.5.0)\n",
            "Requirement already satisfied: tensorflow-gcs-config==2.5.0 in /usr/local/lib/python3.7/dist-packages (from -r requirements.txt (line 340)) (2.5.0)\n",
            "Requirement already satisfied: tensorflow-hub==0.12.0 in /usr/local/lib/python3.7/dist-packages (from -r requirements.txt (line 341)) (0.12.0)\n",
            "Requirement already satisfied: tensorflow-metadata==1.1.0 in /usr/local/lib/python3.7/dist-packages (from -r requirements.txt (line 342)) (1.1.0)\n",
            "Requirement already satisfied: tensorflow-probability==0.13.0 in /usr/local/lib/python3.7/dist-packages (from -r requirements.txt (line 343)) (0.13.0)\n",
            "Requirement already satisfied: termcolor==1.1.0 in /usr/local/lib/python3.7/dist-packages (from -r requirements.txt (line 344)) (1.1.0)\n",
            "Requirement already satisfied: terminado==0.10.1 in /usr/local/lib/python3.7/dist-packages (from -r requirements.txt (line 345)) (0.10.1)\n",
            "Requirement already satisfied: testpath==0.5.0 in /usr/local/lib/python3.7/dist-packages (from -r requirements.txt (line 346)) (0.5.0)\n",
            "Requirement already satisfied: text-unidecode==1.3 in /usr/local/lib/python3.7/dist-packages (from -r requirements.txt (line 347)) (1.3)\n",
            "Requirement already satisfied: textblob==0.15.3 in /usr/local/lib/python3.7/dist-packages (from -r requirements.txt (line 348)) (0.15.3)\n",
            "Requirement already satisfied: Theano-PyMC==1.1.2 in /usr/local/lib/python3.7/dist-packages (from -r requirements.txt (line 349)) (1.1.2)\n",
            "Requirement already satisfied: thinc==7.4.0 in /usr/local/lib/python3.7/dist-packages (from -r requirements.txt (line 350)) (7.4.0)\n",
            "Requirement already satisfied: tifffile==2021.7.2 in /usr/local/lib/python3.7/dist-packages (from -r requirements.txt (line 351)) (2021.7.2)\n",
            "Requirement already satisfied: toml==0.10.2 in /usr/local/lib/python3.7/dist-packages (from -r requirements.txt (line 352)) (0.10.2)\n",
            "Requirement already satisfied: toolz==0.11.1 in /usr/local/lib/python3.7/dist-packages (from -r requirements.txt (line 353)) (0.11.1)\n",
            "Requirement already satisfied: torch==1.9.0+cu102 in /usr/local/lib/python3.7/dist-packages (from -r requirements.txt (line 354)) (1.9.0+cu102)\n",
            "Requirement already satisfied: torchsummary==1.5.1 in /usr/local/lib/python3.7/dist-packages (from -r requirements.txt (line 355)) (1.5.1)\n",
            "Requirement already satisfied: torchtext==0.10.0 in /usr/local/lib/python3.7/dist-packages (from -r requirements.txt (line 356)) (0.10.0)\n",
            "Requirement already satisfied: torchvision==0.10.0+cu102 in /usr/local/lib/python3.7/dist-packages (from -r requirements.txt (line 357)) (0.10.0+cu102)\n",
            "Requirement already satisfied: tornado==5.1.1 in /usr/local/lib/python3.7/dist-packages (from -r requirements.txt (line 358)) (5.1.1)\n",
            "Requirement already satisfied: tqdm==4.41.1 in /usr/local/lib/python3.7/dist-packages (from -r requirements.txt (line 359)) (4.41.1)\n",
            "Requirement already satisfied: traitlets==5.0.5 in /usr/local/lib/python3.7/dist-packages (from -r requirements.txt (line 360)) (5.0.5)\n",
            "Requirement already satisfied: tweepy==3.10.0 in /usr/local/lib/python3.7/dist-packages (from -r requirements.txt (line 361)) (3.10.0)\n",
            "Requirement already satisfied: typeguard==2.7.1 in /usr/local/lib/python3.7/dist-packages (from -r requirements.txt (line 362)) (2.7.1)\n",
            "Requirement already satisfied: typing-extensions==3.7.4.3 in /usr/local/lib/python3.7/dist-packages (from -r requirements.txt (line 363)) (3.7.4.3)\n",
            "Requirement already satisfied: tzlocal==1.5.1 in /usr/local/lib/python3.7/dist-packages (from -r requirements.txt (line 364)) (1.5.1)\n",
            "Requirement already satisfied: uritemplate==3.0.1 in /usr/local/lib/python3.7/dist-packages (from -r requirements.txt (line 365)) (3.0.1)\n",
            "Requirement already satisfied: urllib3==1.24.3 in /usr/local/lib/python3.7/dist-packages (from -r requirements.txt (line 366)) (1.24.3)\n",
            "Requirement already satisfied: vega-datasets==0.9.0 in /usr/local/lib/python3.7/dist-packages (from -r requirements.txt (line 367)) (0.9.0)\n",
            "Requirement already satisfied: wasabi==0.8.2 in /usr/local/lib/python3.7/dist-packages (from -r requirements.txt (line 368)) (0.8.2)\n",
            "Requirement already satisfied: wcwidth==0.2.5 in /usr/local/lib/python3.7/dist-packages (from -r requirements.txt (line 369)) (0.2.5)\n",
            "Requirement already satisfied: webencodings==0.5.1 in /usr/local/lib/python3.7/dist-packages (from -r requirements.txt (line 370)) (0.5.1)\n",
            "Requirement already satisfied: Werkzeug==1.0.1 in /usr/local/lib/python3.7/dist-packages (from -r requirements.txt (line 371)) (1.0.1)\n",
            "Requirement already satisfied: widgetsnbextension==3.5.1 in /usr/local/lib/python3.7/dist-packages (from -r requirements.txt (line 372)) (3.5.1)\n",
            "Requirement already satisfied: wordcloud==1.5.0 in /usr/local/lib/python3.7/dist-packages (from -r requirements.txt (line 373)) (1.5.0)\n",
            "Requirement already satisfied: wrapt==1.12.1 in /usr/local/lib/python3.7/dist-packages (from -r requirements.txt (line 374)) (1.12.1)\n",
            "Requirement already satisfied: xarray==0.18.2 in /usr/local/lib/python3.7/dist-packages (from -r requirements.txt (line 375)) (0.18.2)\n",
            "Requirement already satisfied: xgboost==0.90 in /usr/local/lib/python3.7/dist-packages (from -r requirements.txt (line 376)) (0.90)\n",
            "Requirement already satisfied: xkit==0.0.0 in /usr/lib/python3/dist-packages (from -r requirements.txt (line 377)) (0.0.0)\n",
            "Requirement already satisfied: xlrd==1.1.0 in /usr/local/lib/python3.7/dist-packages (from -r requirements.txt (line 378)) (1.1.0)\n",
            "Requirement already satisfied: xlwt==1.3.0 in /usr/local/lib/python3.7/dist-packages (from -r requirements.txt (line 379)) (1.3.0)\n",
            "Requirement already satisfied: yellowbrick==0.9.1 in /usr/local/lib/python3.7/dist-packages (from -r requirements.txt (line 380)) (0.9.1)\n",
            "Requirement already satisfied: zict==2.0.0 in /usr/local/lib/python3.7/dist-packages (from -r requirements.txt (line 381)) (2.0.0)\n",
            "Requirement already satisfied: zipp==3.4.1 in /usr/local/lib/python3.7/dist-packages (from -r requirements.txt (line 382)) (3.4.1)\n",
            "Requirement already satisfied: setuptools>=38.4 in /usr/local/lib/python3.7/dist-packages (from arviz==0.11.2->-r requirements.txt (line 7)) (57.0.0)\n",
            "Requirement already satisfied: wheel<1.0,>=0.23.0 in /usr/local/lib/python3.7/dist-packages (from astunparse==1.6.3->-r requirements.txt (line 10)) (0.36.2)\n"
          ],
          "name": "stdout"
        }
      ]
    }
  ]
}